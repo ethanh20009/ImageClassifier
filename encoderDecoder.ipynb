{
 "cells": [
  {
   "cell_type": "code",
   "execution_count": 172,
   "metadata": {},
   "outputs": [
    {
     "name": "stdout",
     "output_type": "stream",
     "text": [
      "cuda\n"
     ]
    }
   ],
   "source": [
    "import torch\n",
    "import numpy as np\n",
    "import torchvision\n",
    "import torchvision.transforms as transforms\n",
    "from torch.utils.data import DataLoader\n",
    "import matplotlib.pyplot as plt\n",
    "import matplotlib\n",
    "from PIL import Image\n",
    "#Clear output\n",
    "from IPython.display import clear_output\n",
    "\n",
    "device = torch.device('cuda' if torch.cuda.is_available() else 'cpu')\n",
    "\n",
    "print(device)\n",
    "\n",
    "trainDataset = torchvision.datasets.FashionMNIST(\"fashionDataset\", train=True, download=True, transform=transforms.ToTensor())\n",
    "testDataset = torchvision.datasets.FashionMNIST(\"fashionTrain\", train=False, download=True, transform=transforms.ToTensor())"
   ]
  },
  {
   "cell_type": "code",
   "execution_count": 173,
   "metadata": {},
   "outputs": [
    {
     "data": {
      "text/plain": [
       "torch.Size([6000, 1, 28, 28])"
      ]
     },
     "execution_count": 173,
     "metadata": {},
     "output_type": "execute_result"
    }
   ],
   "source": [
    "mapping = trainDataset.targets == 9\n",
    "\n",
    "trousers = trainDataset.data[mapping]\n",
    "trousers = trousers.unsqueeze(1)\n",
    "trousers = trousers.float()\n",
    "trousers.shape\n"
   ]
  },
  {
   "cell_type": "code",
   "execution_count": 174,
   "metadata": {},
   "outputs": [],
   "source": [
    "BATCH_SIZE = 1000\n",
    "EPOCHS = 50\n",
    "LEARNING_RATE = 0.00005\n",
    "alphaG = 0.005\n",
    "alphaD = 0.00002\n",
    "\n",
    "dataloader = DataLoader(trousers, batch_size=BATCH_SIZE, shuffle=True)"
   ]
  },
  {
   "cell_type": "code",
   "execution_count": 175,
   "metadata": {},
   "outputs": [],
   "source": [
    "class Discriminator(torch.nn.Module):\n",
    "    def __init__(self):\n",
    "        super().__init__()\n",
    "        self.conv1 = torch.nn.Sequential(\n",
    "            torch.nn.Conv2d(1, 16, 3, 1, 1),\n",
    "            torch.nn.ReLU(),\n",
    "            torch.nn.MaxPool2d(2, 2)\n",
    "        )\n",
    "        self.conv2 = torch.nn.Sequential(\n",
    "            torch.nn.Conv2d(16, 32, 5, 1, 2),\n",
    "            torch.nn.ReLU(),\n",
    "            torch.nn.MaxPool2d(2, 2)\n",
    "        )\n",
    "        self.conv3 = torch.nn.Sequential(\n",
    "            torch.nn.Conv2d(32, 50, 5, 1, 2),\n",
    "            torch.nn.ReLU(),\n",
    "            torch.nn.MaxPool2d(2, 2)\n",
    "        )\n",
    "        self.fc1 = torch.nn.Sequential(\n",
    "            torch.nn.Linear(50*3*3, 100),\n",
    "            torch.nn.ReLU(),\n",
    "            torch.nn.Linear(100, 2)\n",
    "        )\n",
    "    def forward(self, x):\n",
    "        x = self.conv1(x)\n",
    "        x = self.conv2(x)\n",
    "        x = self.conv3(x)\n",
    "        x = x.reshape(-1, 50*3*3)\n",
    "        x = self.fc1(x)\n",
    "        return x\n",
    "    \n",
    "class Generator(torch.nn.Module):\n",
    "    def __init__(self):\n",
    "        super().__init__()\n",
    "        self.fc1 = torch.nn.Sequential(\n",
    "            torch.nn.Linear(10, 100),\n",
    "            torch.nn.ReLU(),\n",
    "            torch.nn.Linear(100, 100),\n",
    "            torch.nn.ReLU(),\n",
    "            torch.nn.Linear(100, 100),\n",
    "            torch.nn.ReLU(),\n",
    "            torch.nn.Linear(100, 784),\n",
    "        )\n",
    "\n",
    "    def forward(self, x):\n",
    "        x = self.fc1(x)\n",
    "        x = x.reshape(-1, 1, 28, 28)\n",
    "        return x\n",
    "    \n",
    "# noise = torch.randn(5, 10)\n",
    "# noise = noise.to(device)\n",
    "# generator = Generator()\n",
    "# generator = generator.to(device)\n",
    "# fake= generator(noise)\n",
    "\n",
    "# discriminator = Discriminator()\n",
    "# discriminator = discriminator.to(device)\n",
    "# pred = discriminator(fake)\n",
    "# pred\n"
   ]
  },
  {
   "cell_type": "code",
   "execution_count": 176,
   "metadata": {},
   "outputs": [],
   "source": [
    "loss_discriminator = torch.nn.CrossEntropyLoss()\n",
    "\n",
    "discriminator = Discriminator().to(device)\n",
    "generator = Generator().to(device)\n",
    "\n",
    "optimizer_discriminator = torch.optim.Adam(discriminator.parameters(), lr=alphaD)\n",
    "optimizer_generator = torch.optim.Adam(generator.parameters(), lr=alphaG)"
   ]
  },
  {
   "cell_type": "code",
   "execution_count": 177,
   "metadata": {},
   "outputs": [
    {
     "name": "stdout",
     "output_type": "stream",
     "text": [
      "Generator params:  100484\n",
      "Discriminator params:  98344\n"
     ]
    }
   ],
   "source": [
    "#Print number of params\n",
    "print(\"Generator params: \", sum(p.numel() for p in generator.parameters() if p.requires_grad))\n",
    "print(\"Discriminator params: \", sum(p.numel() for p in discriminator.parameters() if p.requires_grad))"
   ]
  },
  {
   "cell_type": "code",
   "execution_count": 178,
   "metadata": {},
   "outputs": [
    {
     "ename": "KeyboardInterrupt",
     "evalue": "",
     "output_type": "error",
     "traceback": [
      "\u001b[1;31m---------------------------------------------------------------------------\u001b[0m",
      "\u001b[1;31mKeyboardInterrupt\u001b[0m                         Traceback (most recent call last)",
      "Cell \u001b[1;32mIn[178], line 8\u001b[0m\n\u001b[0;32m      6\u001b[0m \u001b[39mwhile\u001b[39;00m \u001b[39mTrue\u001b[39;00m:\n\u001b[0;32m      7\u001b[0m     avgLoss \u001b[39m=\u001b[39m \u001b[39m0\u001b[39m\n\u001b[1;32m----> 8\u001b[0m     \u001b[39mfor\u001b[39;00m i, realImage \u001b[39min\u001b[39;00m \u001b[39menumerate\u001b[39m(dataloader):\n\u001b[0;32m      9\u001b[0m         optimizer_discriminator\u001b[39m.\u001b[39mzero_grad()\n\u001b[0;32m     10\u001b[0m         realImage \u001b[39m=\u001b[39m realImage\u001b[39m.\u001b[39mto(device)\n",
      "File \u001b[1;32mc:\\Users\\ethan\\.conda\\envs\\cudaPytorch\\lib\\site-packages\\torch\\utils\\data\\dataloader.py:628\u001b[0m, in \u001b[0;36m_BaseDataLoaderIter.__next__\u001b[1;34m(self)\u001b[0m\n\u001b[0;32m    625\u001b[0m \u001b[39mif\u001b[39;00m \u001b[39mself\u001b[39m\u001b[39m.\u001b[39m_sampler_iter \u001b[39mis\u001b[39;00m \u001b[39mNone\u001b[39;00m:\n\u001b[0;32m    626\u001b[0m     \u001b[39m# TODO(https://github.com/pytorch/pytorch/issues/76750)\u001b[39;00m\n\u001b[0;32m    627\u001b[0m     \u001b[39mself\u001b[39m\u001b[39m.\u001b[39m_reset()  \u001b[39m# type: ignore[call-arg]\u001b[39;00m\n\u001b[1;32m--> 628\u001b[0m data \u001b[39m=\u001b[39m \u001b[39mself\u001b[39;49m\u001b[39m.\u001b[39;49m_next_data()\n\u001b[0;32m    629\u001b[0m \u001b[39mself\u001b[39m\u001b[39m.\u001b[39m_num_yielded \u001b[39m+\u001b[39m\u001b[39m=\u001b[39m \u001b[39m1\u001b[39m\n\u001b[0;32m    630\u001b[0m \u001b[39mif\u001b[39;00m \u001b[39mself\u001b[39m\u001b[39m.\u001b[39m_dataset_kind \u001b[39m==\u001b[39m _DatasetKind\u001b[39m.\u001b[39mIterable \u001b[39mand\u001b[39;00m \\\n\u001b[0;32m    631\u001b[0m         \u001b[39mself\u001b[39m\u001b[39m.\u001b[39m_IterableDataset_len_called \u001b[39mis\u001b[39;00m \u001b[39mnot\u001b[39;00m \u001b[39mNone\u001b[39;00m \u001b[39mand\u001b[39;00m \\\n\u001b[0;32m    632\u001b[0m         \u001b[39mself\u001b[39m\u001b[39m.\u001b[39m_num_yielded \u001b[39m>\u001b[39m \u001b[39mself\u001b[39m\u001b[39m.\u001b[39m_IterableDataset_len_called:\n",
      "File \u001b[1;32mc:\\Users\\ethan\\.conda\\envs\\cudaPytorch\\lib\\site-packages\\torch\\utils\\data\\dataloader.py:671\u001b[0m, in \u001b[0;36m_SingleProcessDataLoaderIter._next_data\u001b[1;34m(self)\u001b[0m\n\u001b[0;32m    669\u001b[0m \u001b[39mdef\u001b[39;00m \u001b[39m_next_data\u001b[39m(\u001b[39mself\u001b[39m):\n\u001b[0;32m    670\u001b[0m     index \u001b[39m=\u001b[39m \u001b[39mself\u001b[39m\u001b[39m.\u001b[39m_next_index()  \u001b[39m# may raise StopIteration\u001b[39;00m\n\u001b[1;32m--> 671\u001b[0m     data \u001b[39m=\u001b[39m \u001b[39mself\u001b[39;49m\u001b[39m.\u001b[39;49m_dataset_fetcher\u001b[39m.\u001b[39;49mfetch(index)  \u001b[39m# may raise StopIteration\u001b[39;00m\n\u001b[0;32m    672\u001b[0m     \u001b[39mif\u001b[39;00m \u001b[39mself\u001b[39m\u001b[39m.\u001b[39m_pin_memory:\n\u001b[0;32m    673\u001b[0m         data \u001b[39m=\u001b[39m _utils\u001b[39m.\u001b[39mpin_memory\u001b[39m.\u001b[39mpin_memory(data, \u001b[39mself\u001b[39m\u001b[39m.\u001b[39m_pin_memory_device)\n",
      "File \u001b[1;32mc:\\Users\\ethan\\.conda\\envs\\cudaPytorch\\lib\\site-packages\\torch\\utils\\data\\_utils\\fetch.py:61\u001b[0m, in \u001b[0;36m_MapDatasetFetcher.fetch\u001b[1;34m(self, possibly_batched_index)\u001b[0m\n\u001b[0;32m     59\u001b[0m \u001b[39melse\u001b[39;00m:\n\u001b[0;32m     60\u001b[0m     data \u001b[39m=\u001b[39m \u001b[39mself\u001b[39m\u001b[39m.\u001b[39mdataset[possibly_batched_index]\n\u001b[1;32m---> 61\u001b[0m \u001b[39mreturn\u001b[39;00m \u001b[39mself\u001b[39;49m\u001b[39m.\u001b[39;49mcollate_fn(data)\n",
      "File \u001b[1;32mc:\\Users\\ethan\\.conda\\envs\\cudaPytorch\\lib\\site-packages\\torch\\utils\\data\\_utils\\collate.py:265\u001b[0m, in \u001b[0;36mdefault_collate\u001b[1;34m(batch)\u001b[0m\n\u001b[0;32m    204\u001b[0m \u001b[39mdef\u001b[39;00m \u001b[39mdefault_collate\u001b[39m(batch):\n\u001b[0;32m    205\u001b[0m     \u001b[39mr\u001b[39m\u001b[39m\"\"\"\u001b[39;00m\n\u001b[0;32m    206\u001b[0m \u001b[39m        Function that takes in a batch of data and puts the elements within the batch\u001b[39;00m\n\u001b[0;32m    207\u001b[0m \u001b[39m        into a tensor with an additional outer dimension - batch size. The exact output type can be\u001b[39;00m\n\u001b[1;32m   (...)\u001b[0m\n\u001b[0;32m    263\u001b[0m \u001b[39m            >>> default_collate(batch)  # Handle `CustomType` automatically\u001b[39;00m\n\u001b[0;32m    264\u001b[0m \u001b[39m    \"\"\"\u001b[39;00m\n\u001b[1;32m--> 265\u001b[0m     \u001b[39mreturn\u001b[39;00m collate(batch, collate_fn_map\u001b[39m=\u001b[39;49mdefault_collate_fn_map)\n",
      "File \u001b[1;32mc:\\Users\\ethan\\.conda\\envs\\cudaPytorch\\lib\\site-packages\\torch\\utils\\data\\_utils\\collate.py:120\u001b[0m, in \u001b[0;36mcollate\u001b[1;34m(batch, collate_fn_map)\u001b[0m\n\u001b[0;32m    118\u001b[0m \u001b[39mif\u001b[39;00m collate_fn_map \u001b[39mis\u001b[39;00m \u001b[39mnot\u001b[39;00m \u001b[39mNone\u001b[39;00m:\n\u001b[0;32m    119\u001b[0m     \u001b[39mif\u001b[39;00m elem_type \u001b[39min\u001b[39;00m collate_fn_map:\n\u001b[1;32m--> 120\u001b[0m         \u001b[39mreturn\u001b[39;00m collate_fn_map[elem_type](batch, collate_fn_map\u001b[39m=\u001b[39;49mcollate_fn_map)\n\u001b[0;32m    122\u001b[0m     \u001b[39mfor\u001b[39;00m collate_type \u001b[39min\u001b[39;00m collate_fn_map:\n\u001b[0;32m    123\u001b[0m         \u001b[39mif\u001b[39;00m \u001b[39misinstance\u001b[39m(elem, collate_type):\n",
      "File \u001b[1;32mc:\\Users\\ethan\\.conda\\envs\\cudaPytorch\\lib\\site-packages\\torch\\utils\\data\\_utils\\collate.py:163\u001b[0m, in \u001b[0;36mcollate_tensor_fn\u001b[1;34m(batch, collate_fn_map)\u001b[0m\n\u001b[0;32m    161\u001b[0m     storage \u001b[39m=\u001b[39m elem\u001b[39m.\u001b[39mstorage()\u001b[39m.\u001b[39m_new_shared(numel, device\u001b[39m=\u001b[39melem\u001b[39m.\u001b[39mdevice)\n\u001b[0;32m    162\u001b[0m     out \u001b[39m=\u001b[39m elem\u001b[39m.\u001b[39mnew(storage)\u001b[39m.\u001b[39mresize_(\u001b[39mlen\u001b[39m(batch), \u001b[39m*\u001b[39m\u001b[39mlist\u001b[39m(elem\u001b[39m.\u001b[39msize()))\n\u001b[1;32m--> 163\u001b[0m \u001b[39mreturn\u001b[39;00m torch\u001b[39m.\u001b[39;49mstack(batch, \u001b[39m0\u001b[39;49m, out\u001b[39m=\u001b[39;49mout)\n",
      "\u001b[1;31mKeyboardInterrupt\u001b[0m: "
     ]
    }
   ],
   "source": [
    "for epoch in range(EPOCHS):\n",
    "\n",
    "    lossOfDiscriminator = 0\n",
    "    lossOfGenerator = 0\n",
    "\n",
    "    while True:\n",
    "        avgLoss = 0\n",
    "        for i, realImage in enumerate(dataloader):\n",
    "            optimizer_discriminator.zero_grad()\n",
    "            realImage = realImage.to(device)\n",
    "\n",
    "            realLabel = torch.eye(2)[0].repeat(BATCH_SIZE, 1).to(device)\n",
    "            fakeLabel = torch.eye(2)[1].repeat(BATCH_SIZE, 1).to(device)\n",
    "\n",
    "            noise = torch.randn(BATCH_SIZE, 10).to(device)\n",
    "            fakeImage = generator(noise)\n",
    "\n",
    "            pred_real = discriminator(realImage)\n",
    "            pred_fake = discriminator(fakeImage)\n",
    "\n",
    "            loss_real = loss_discriminator(pred_real, realLabel)\n",
    "            loss_fake = loss_discriminator(pred_fake, fakeLabel)\n",
    "            loss = loss_real + loss_fake\n",
    "            loss.backward()\n",
    "            optimizer_discriminator.step()\n",
    "            lossOfDiscriminator += loss.item()\n",
    "            avgLoss += loss.item()\n",
    "        if avgLoss/len(dataloader) < 0.1:\n",
    "            break\n",
    "\n",
    "            # if i % 5 == 0:\n",
    "            #     print(\"Loss: \", loss.item())\n",
    "\n",
    "    \n",
    "    while True:\n",
    "        avgLoss = 0\n",
    "        for i, realImage in enumerate(dataloader):\n",
    "            optimizer_generator.zero_grad()\n",
    "            realImage = realImage.to(device)\n",
    "\n",
    "            faketargets = torch.eye(2)[0].repeat(BATCH_SIZE, 1).to(device)\n",
    "            realtargets = torch.eye(2)[1].repeat(BATCH_SIZE, 1).to(device)\n",
    "\n",
    "            noise = torch.randn(BATCH_SIZE, 10).to(device)\n",
    "            fakeImage = generator(noise)\n",
    "\n",
    "            pred_fake = discriminator(fakeImage)\n",
    "            pred_real = discriminator(realImage)\n",
    "\n",
    "            fake_loss = loss_discriminator(pred_fake, faketargets)\n",
    "\n",
    "            loss = fake_loss\n",
    "            loss.backward()\n",
    "            optimizer_generator.step()\n",
    "            lossOfGenerator += loss.item()\n",
    "            avgLoss += loss.item()\n",
    "        #print(\"Loss of generator: \", avgLoss/len(dataloader))\n",
    "        if avgLoss/len(dataloader) < 0.01:\n",
    "            break\n",
    "\n",
    "        # if i % 5 == 0:\n",
    "        #     print(\"Loss: \", loss.item())\n",
    "    print(\"Epoch:\",epoch)\n",
    "    print(\"Loss of discriminator: \", lossOfDiscriminator/len(dataloader))\n",
    "    print(\"Loss of generator: \", lossOfGenerator/len(dataloader))\n",
    "\n",
    "\n",
    "    noise = torch.randn(1, 10).to(device)\n",
    "    fakeImage = generator(noise)\n",
    "\n",
    "    y_pred = discriminator(fakeImage)\n",
    "    y_pred = torch.softmax(y_pred, dim=1)\n",
    "\n",
    "    #Show generator output\n",
    "\n",
    "    fakeImage = fakeImage.reshape(28, 28)\n",
    "    fakeImage = fakeImage.detach().cpu().numpy()\n",
    "    plt.imshow(fakeImage, cmap='gray')\n",
    "    plt.show()\n",
    "\n",
    "    #Show real image\n",
    "\n",
    "    realImage = trousers[0]\n",
    "    realImage = realImage.reshape(28, 28)\n",
    "    plt.imshow(realImage, cmap='gray')\n",
    "    plt.show()\n",
    "\n",
    "    clear_output(wait=True)\n",
    "\n",
    "    "
   ]
  },
  {
   "cell_type": "code",
   "execution_count": null,
   "metadata": {},
   "outputs": [
    {
     "name": "stdout",
     "output_type": "stream",
     "text": [
      "tensor([[9.9937e-01, 6.3420e-04]], device='cuda:0', grad_fn=<SoftmaxBackward0>)\n"
     ]
    }
   ],
   "source": [
    "#Test\n",
    "\n",
    "noise = torch.randn(1, 10).to(device)\n",
    "fakeImage = generator(noise)\n",
    "\n",
    "y_pred = discriminator(fakeImage)\n",
    "y_pred = torch.softmax(y_pred, dim=1)\n",
    "\n",
    "print(y_pred)"
   ]
  },
  {
   "cell_type": "code",
   "execution_count": null,
   "metadata": {},
   "outputs": [
    {
     "data": {
      "image/png": "[encoded data removed]",
      "text/plain": [
       "<Figure size 640x480 with 1 Axes>"
      ]
     },
     "metadata": {},
     "output_type": "display_data"
    },
    {
     "data": {
      "image/png": "[encoded data removed]",
      "text/plain": [
       "<Figure size 640x480 with 1 Axes>"
      ]
     },
     "metadata": {},
     "output_type": "display_data"
    }
   ],
   "source": [
    "#Show generator output\n",
    "\n",
    "fakeImage = fakeImage.reshape(28, 28)\n",
    "fakeImage = fakeImage.detach().cpu().numpy()\n",
    "plt.imshow(fakeImage, cmap='gray')\n",
    "plt.show()\n",
    "\n",
    "#Show real image\n",
    "\n",
    "realImage = trousers[0]\n",
    "realImage = realImage.reshape(28, 28)\n",
    "plt.imshow(realImage, cmap='gray')\n",
    "plt.show()"
   ]
  },
  {
   "cell_type": "code",
   "execution_count": null,
   "metadata": {},
   "outputs": [],
   "source": [
    "saving = False\n",
    "if saving:\n",
    "    torch.save(generator.state_dict(), \"generatorA.pt\")\n",
    "    torch.save(discriminator.state_dict(), \"discriminatorA.pt\")"
   ]
  },
  {
   "cell_type": "code",
   "execution_count": null,
   "metadata": {},
   "outputs": [
    {
     "data": {
      "image/png": "[encoded data removed]",
      "text/plain": [
       "<Figure size 1000x1000 with 9 Axes>"
      ]
     },
     "metadata": {},
     "output_type": "display_data"
    }
   ],
   "source": [
    "#Show grid of generated images\n",
    "\n",
    "noise = torch.randn(9, 10).to(device)\n",
    "fakeImage = generator(noise)\n",
    "\n",
    "fakeImage = fakeImage.reshape(9, 28, 28)\n",
    "fakeImage = fakeImage.detach().cpu().numpy()\n",
    "\n",
    "fig, ax = plt.subplots(3, 3, figsize=(10, 10))\n",
    "for i in range(3):\n",
    "    for j in range(3):\n",
    "        ax[i, j].imshow(fakeImage[i*3+j], cmap='gray')"
   ]
  },
  {
   "cell_type": "code",
   "execution_count": null,
   "metadata": {},
   "outputs": [],
   "source": []
  }
 ],
 "metadata": {
  "kernelspec": {
   "display_name": "cudaPytorch",
   "language": "python",
   "name": "python3"
  },
  "language_info": {
   "codemirror_mode": {
    "name": "ipython",
    "version": 3
   },
   "file_extension": ".py",
   "mimetype": "text/x-python",
   "name": "python",
   "nbconvert_exporter": "python",
   "pygments_lexer": "ipython3",
   "version": "3.8.15"
  },
  "orig_nbformat": 4
 },
 "nbformat": 4,
 "nbformat_minor": 2
}
