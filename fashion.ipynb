{
 "cells": [
  {
   "cell_type": "code",
   "execution_count": 1,
   "metadata": {},
   "outputs": [
    {
     "name": "stdout",
     "output_type": "stream",
     "text": [
      "cuda\n",
      "9\n"
     ]
    }
   ],
   "source": [
    "import torch\n",
    "import numpy as np\n",
    "import torchvision\n",
    "import torchvision.transforms as transforms\n",
    "from torch.utils.data import DataLoader\n",
    "import matplotlib.pyplot as plt\n",
    "import matplotlib\n",
    "from PIL import Image\n",
    "\n",
    "device = torch.device('cuda' if torch.cuda.is_available() else 'cpu')\n",
    "\n",
    "print(device)\n",
    "\n",
    "trainDataset = torchvision.datasets.FashionMNIST(\"fashionDataset\", train=True, download=True, transform=transforms.ToTensor())\n",
    "\n",
    "\n",
    "x,y = trainDataset[0]\n",
    "print(y)"
   ]
  },
  {
   "cell_type": "code",
   "execution_count": 8,
   "metadata": {},
   "outputs": [
    {
     "data": {
      "text/plain": [
       "CNN(\n",
       "  (conv1): Conv2d(1, 3, kernel_size=(3, 3), stride=(1, 1), padding=(1, 1))\n",
       "  (conv2): Conv2d(3, 9, kernel_size=(5, 5), stride=(1, 1), padding=(2, 2))\n",
       "  (conv3): Conv2d(9, 20, kernel_size=(5, 5), stride=(1, 1), padding=(2, 2))\n",
       "  (conv4): Conv2d(20, 25, kernel_size=(5, 5), stride=(1, 1), padding=(2, 2))\n",
       "  (fc1): Linear(in_features=225, out_features=100, bias=True)\n",
       "  (fc2): Linear(in_features=100, out_features=10, bias=True)\n",
       "  (drop): Dropout(p=0.2, inplace=False)\n",
       "  (pool): MaxPool2d(kernel_size=2, stride=2, padding=0, dilation=1, ceil_mode=False)\n",
       "  (conv): Sequential(\n",
       "    (0): MaxPool2d(kernel_size=2, stride=2, padding=0, dilation=1, ceil_mode=False)\n",
       "    (1): ReLU()\n",
       "  )\n",
       ")"
      ]
     },
     "execution_count": 8,
     "metadata": {},
     "output_type": "execute_result"
    }
   ],
   "source": [
    "class CNN(torch.nn.Module):\n",
    "    def __init__(self):\n",
    "        super().__init__()\n",
    "        self.conv1 = torch.nn.Conv2d(1, 3, kernel_size=3, padding=1)\n",
    "        self.conv2 = torch.nn.Conv2d(3, 9, kernel_size=5, padding=2)\n",
    "        self.conv3 = torch.nn.Conv2d(9, 20, kernel_size=5, padding=2)\n",
    "        self.conv4 = torch.nn.Conv2d(20, 25, kernel_size=5, padding=2)\n",
    "        self.fc1 = torch.nn.Linear(225, 100)\n",
    "        self.fc2 = torch.nn.Linear(100, 10)\n",
    "        self.drop = torch.nn.Dropout(0.20)\n",
    "        self.pool = torch.nn.MaxPool2d(2, 2) #Halfs image\n",
    "\n",
    "        self.conv = torch.nn.Sequential(\n",
    "            self.pool,\n",
    "            torch.nn.ReLU()\n",
    "        )\n",
    "    \n",
    "    def forward(self, x):\n",
    "\n",
    "        x = self.conv(self.conv1(x))\n",
    "        x = self.conv(self.conv2(x))\n",
    "        x = self.conv(self.conv3(x))\n",
    "        x = torch.nn.functional.relu(self.conv4(x))\n",
    "        x = x.reshape((-1, 225))\n",
    "        x = torch.nn.functional.relu(self.fc1(x))\n",
    "        x = self.fc2(x)\n",
    "        return x\n",
    "\n",
    "    \n",
    "model = CNN()\n",
    "model.to(device)\n",
    "\n",
    "\n",
    "\n"
   ]
  },
  {
   "cell_type": "code",
   "execution_count": 11,
   "metadata": {},
   "outputs": [],
   "source": [
    "epochs = 20\n",
    "batchSize = 600\n",
    "dataloader = DataLoader(trainDataset, batch_size=batchSize, shuffle=True, num_workers=4)\n",
    "\n",
    "\n",
    "loss = torch.nn.CrossEntropyLoss()\n",
    "optimiser = torch.optim.Adam(model.parameters(), lr=0.5e-3, weight_decay=1e-6)\n",
    "\n",
    "\n"
   ]
  },
  {
   "cell_type": "code",
   "execution_count": 12,
   "metadata": {},
   "outputs": [
    {
     "ename": "KeyboardInterrupt",
     "evalue": "",
     "output_type": "error",
     "traceback": [
      "\u001b[1;31m---------------------------------------------------------------------------\u001b[0m",
      "\u001b[1;31mKeyboardInterrupt\u001b[0m                         Traceback (most recent call last)",
      "Cell \u001b[1;32mIn[12], line 14\u001b[0m\n\u001b[0;32m     11\u001b[0m xBatch \u001b[39m=\u001b[39m xBatch\u001b[39m.\u001b[39mto(device)\n\u001b[0;32m     12\u001b[0m yBatch \u001b[39m=\u001b[39m yBatch\u001b[39m.\u001b[39mto(device)\n\u001b[1;32m---> 14\u001b[0m y_this \u001b[39m=\u001b[39m model(xBatch)\n\u001b[0;32m     16\u001b[0m cost \u001b[39m=\u001b[39m loss(y_this, yBatch)\n\u001b[0;32m     17\u001b[0m cost\u001b[39m.\u001b[39mbackward()\n",
      "File \u001b[1;32mc:\\Users\\ethan\\.conda\\envs\\cudaPytorch\\lib\\site-packages\\torch\\nn\\modules\\module.py:1190\u001b[0m, in \u001b[0;36mModule._call_impl\u001b[1;34m(self, *input, **kwargs)\u001b[0m\n\u001b[0;32m   1186\u001b[0m \u001b[39m# If we don't have any hooks, we want to skip the rest of the logic in\u001b[39;00m\n\u001b[0;32m   1187\u001b[0m \u001b[39m# this function, and just call forward.\u001b[39;00m\n\u001b[0;32m   1188\u001b[0m \u001b[39mif\u001b[39;00m \u001b[39mnot\u001b[39;00m (\u001b[39mself\u001b[39m\u001b[39m.\u001b[39m_backward_hooks \u001b[39mor\u001b[39;00m \u001b[39mself\u001b[39m\u001b[39m.\u001b[39m_forward_hooks \u001b[39mor\u001b[39;00m \u001b[39mself\u001b[39m\u001b[39m.\u001b[39m_forward_pre_hooks \u001b[39mor\u001b[39;00m _global_backward_hooks\n\u001b[0;32m   1189\u001b[0m         \u001b[39mor\u001b[39;00m _global_forward_hooks \u001b[39mor\u001b[39;00m _global_forward_pre_hooks):\n\u001b[1;32m-> 1190\u001b[0m     \u001b[39mreturn\u001b[39;00m forward_call(\u001b[39m*\u001b[39;49m\u001b[39minput\u001b[39;49m, \u001b[39m*\u001b[39;49m\u001b[39m*\u001b[39;49mkwargs)\n\u001b[0;32m   1191\u001b[0m \u001b[39m# Do not call functions when jit is used\u001b[39;00m\n\u001b[0;32m   1192\u001b[0m full_backward_hooks, non_full_backward_hooks \u001b[39m=\u001b[39m [], []\n",
      "Cell \u001b[1;32mIn[8], line 24\u001b[0m, in \u001b[0;36mCNN.forward\u001b[1;34m(self, x)\u001b[0m\n\u001b[0;32m     22\u001b[0m x \u001b[39m=\u001b[39m \u001b[39mself\u001b[39m\u001b[39m.\u001b[39mconv(\u001b[39mself\u001b[39m\u001b[39m.\u001b[39mconv3(x))\n\u001b[0;32m     23\u001b[0m x \u001b[39m=\u001b[39m torch\u001b[39m.\u001b[39mnn\u001b[39m.\u001b[39mfunctional\u001b[39m.\u001b[39mrelu(\u001b[39mself\u001b[39m\u001b[39m.\u001b[39mconv4(x))\n\u001b[1;32m---> 24\u001b[0m x \u001b[39m=\u001b[39m x\u001b[39m.\u001b[39;49mreshape((\u001b[39m-\u001b[39;49m\u001b[39m1\u001b[39;49m, \u001b[39m225\u001b[39;49m))\n\u001b[0;32m     25\u001b[0m x \u001b[39m=\u001b[39m torch\u001b[39m.\u001b[39mnn\u001b[39m.\u001b[39mfunctional\u001b[39m.\u001b[39mrelu(\u001b[39mself\u001b[39m\u001b[39m.\u001b[39mfc1(x))\n\u001b[0;32m     26\u001b[0m x \u001b[39m=\u001b[39m \u001b[39mself\u001b[39m\u001b[39m.\u001b[39mfc2(x)\n",
      "\u001b[1;31mKeyboardInterrupt\u001b[0m: "
     ]
    }
   ],
   "source": [
    "from IPython.display import clear_output\n",
    "\n",
    "history = []\n",
    "accuracy = []\n",
    "model.train()\n",
    "for i in range(epochs):\n",
    "    totalCost = 0\n",
    "  \n",
    "    for xBatch, yBatch in dataloader:\n",
    "        optimiser.zero_grad()\n",
    "        xBatch = xBatch.to(device)\n",
    "        yBatch = yBatch.to(device)\n",
    "        \n",
    "        y_this = model(xBatch)\n",
    "\n",
    "        cost = loss(y_this, yBatch)\n",
    "        cost.backward()\n",
    "        totalCost += cost.item()\n",
    "\n",
    "        optimiser.step()\n",
    "    ##Plot acc\n",
    "    ySet = trainDataset.targets.to(device)\n",
    "    xSet = trainDataset.data.reshape(-1, 1, 28, 28)\n",
    "    xSet = xSet.to(device).to(torch.float)\n",
    "    modelOutput = model(xSet)\n",
    "\n",
    "    indexOut = torch.argmax(modelOutput, dim=1)\n",
    "    matches = indexOut == ySet\n",
    "    accuracy.append(matches.sum().item()*100/len(ySet))\n",
    "\n",
    "    plt.figure(figsize=(6,3))\n",
    "    plt.plot(accuracy)\n",
    "    plt.show()\n",
    "    print(i)\n",
    "    clear_output(wait=True)\n",
    "\n",
    "    history.append(totalCost/len(trainDataset))\n",
    "plt.plot(history)\n",
    "plt.show()\n",
    "\n"
   ]
  },
  {
   "cell_type": "code",
   "execution_count": null,
   "metadata": {},
   "outputs": [],
   "source": [
    "torch.save(model.state_dict(), \"modelParams.pt\")"
   ]
  },
  {
   "cell_type": "code",
   "execution_count": 5,
   "metadata": {},
   "outputs": [
    {
     "name": "stdout",
     "output_type": "stream",
     "text": [
      "torch.float32\n"
     ]
    },
    {
     "data": {
      "text/plain": [
       "<matplotlib.image.AxesImage at 0x15ba5098cd0>"
      ]
     },
     "execution_count": 5,
     "metadata": {},
     "output_type": "execute_result"
    },
    {
     "data": {
      "image/png": "[encoded data removed]",
      "text/plain": [
       "<Figure size 600x300 with 1 Axes>"
      ]
     },
     "metadata": {},
     "output_type": "display_data"
    }
   ],
   "source": [
    "model.eval()\n",
    "labels = [\"T-shirt/top\", \"Trouser\", \"Pullover\", \"Dress\", \"Coat\", \"Sandal\", \"Shirt\", \"Sneaker\", \"Bag\", \"Ankle boot\"]\n",
    "testImage, expectedOutput = trainDataset[20]\n",
    "print(testImage.dtype)\n",
    "modelOutput = model(testImage.to(device))\n",
    "index = torch.argmax(modelOutput[0], dim=0).item()\n",
    "\n",
    "plt.figure(figsize=[6,3])\n",
    "plt.title( labels[index])\n",
    "plt.xlabel(\"True: \"+labels[expectedOutput])\n",
    "plt.imshow(testImage[0], cmap=\"gray\")\n",
    "\n"
   ]
  },
  {
   "cell_type": "code",
   "execution_count": 6,
   "metadata": {},
   "outputs": [
    {
     "name": "stdout",
     "output_type": "stream",
     "text": [
      "83.355\n"
     ]
    }
   ],
   "source": [
    "##Test Entire ds for accuracy\n",
    "model.eval()\n",
    "ySet = trainDataset.targets.to(device)\n",
    "xSet = trainDataset.data.reshape(-1, 1, 28, 28)\n",
    "xSet = xSet.to(device).to(torch.float)\n",
    "modelOutput = model(xSet)\n",
    "\n",
    "indexOut = torch.argmax(modelOutput, dim=1)\n",
    "matches = indexOut == ySet\n",
    "print(matches.sum().item()*100/len(ySet))\n"
   ]
  },
  {
   "cell_type": "code",
   "execution_count": 7,
   "metadata": {},
   "outputs": [
    {
     "data": {
      "image/png": "[encoded data removed]",
      "text/plain": [
       "<Figure size 640x480 with 1 Axes>"
      ]
     },
     "metadata": {},
     "output_type": "display_data"
    }
   ],
   "source": [
    "plt.plot(accuracy)\n",
    "plt.show()"
   ]
  },
  {
   "cell_type": "code",
   "execution_count": null,
   "metadata": {},
   "outputs": [],
   "source": [
    "model.load_state_dict(torch.load(\"modelParams.pt\"))"
   ]
  },
  {
   "cell_type": "code",
   "execution_count": null,
   "metadata": {},
   "outputs": [],
   "source": []
  }
 ],
 "metadata": {
  "kernelspec": {
   "display_name": "cudaPytorch",
   "language": "python",
   "name": "python3"
  },
  "language_info": {
   "codemirror_mode": {
    "name": "ipython",
    "version": 3
   },
   "file_extension": ".py",
   "mimetype": "text/x-python",
   "name": "python",
   "nbconvert_exporter": "python",
   "pygments_lexer": "ipython3",
   "version": "3.8.15"
  },
  "orig_nbformat": 4
 },
 "nbformat": 4,
 "nbformat_minor": 2
}
