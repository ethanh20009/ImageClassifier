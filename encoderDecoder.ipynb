{
 "cells": [
  {
   "cell_type": "code",
   "execution_count": 37,
   "metadata": {},
   "outputs": [
    {
     "name": "stdout",
     "output_type": "stream",
     "text": [
      "cuda\n"
     ]
    }
   ],
   "source": [
    "import torch\n",
    "import numpy as np\n",
    "import torchvision\n",
    "import torchvision.transforms as transforms\n",
    "from torch.utils.data import DataLoader\n",
    "import matplotlib.pyplot as plt\n",
    "import matplotlib\n",
    "from PIL import Image\n",
    "#Clear output\n",
    "from IPython.display import clear_output\n",
    "\n",
    "device = torch.device('cuda' if torch.cuda.is_available() else 'cpu')\n",
    "\n",
    "print(device)\n",
    "\n",
    "trainDataset = torchvision.datasets.FashionMNIST(\"fashionDataset\", train=True, download=True, transform=transforms.ToTensor())\n",
    "testDataset = torchvision.datasets.FashionMNIST(\"fashionTrain\", train=False, download=True, transform=transforms.ToTensor())"
   ]
  },
  {
   "cell_type": "code",
   "execution_count": 38,
   "metadata": {},
   "outputs": [
    {
     "data": {
      "text/plain": [
       "torch.Size([6000, 1, 28, 28])"
      ]
     },
     "execution_count": 38,
     "metadata": {},
     "output_type": "execute_result"
    }
   ],
   "source": [
    "mapping = trainDataset.targets == 1\n",
    "\n",
    "trousers = trainDataset.data[mapping]\n",
    "trousers = trousers.unsqueeze(1)\n",
    "trousers = trousers.float()\n",
    "trousers.shape\n"
   ]
  },
  {
   "cell_type": "code",
   "execution_count": 39,
   "metadata": {},
   "outputs": [],
   "source": [
    "BATCH_SIZE = 100\n",
    "EPOCHS = 50\n",
    "LEARNING_RATE = 0.00005\n",
    "\n",
    "dataloader = DataLoader(trousers, batch_size=BATCH_SIZE, shuffle=True)"
   ]
  },
  {
   "cell_type": "code",
   "execution_count": 40,
   "metadata": {},
   "outputs": [],
   "source": [
    "class Discriminator(torch.nn.Module):\n",
    "    def __init__(self):\n",
    "        super().__init__()\n",
    "        self.conv1 = torch.nn.Sequential(\n",
    "            torch.nn.Conv2d(1, 16, 5, 1, 2),\n",
    "            torch.nn.ReLU(),\n",
    "            torch.nn.MaxPool2d(2, 2)\n",
    "        )\n",
    "        self.conv2 = torch.nn.Sequential(\n",
    "            torch.nn.Conv2d(16, 32, 3, 1, 1),\n",
    "            torch.nn.ReLU(),\n",
    "            torch.nn.MaxPool2d(2, 2)\n",
    "        )\n",
    "        self.conv3 = torch.nn.Sequential(\n",
    "            torch.nn.Conv2d(32, 50, 3, 1, 1),\n",
    "            torch.nn.ReLU(),\n",
    "            torch.nn.MaxPool2d(2, 2)\n",
    "        )\n",
    "        self.fc1 = torch.nn.Sequential(\n",
    "            torch.nn.Linear(50*3*3, 100),\n",
    "            torch.nn.ReLU(),\n",
    "            torch.nn.Linear(100, 2)\n",
    "        )\n",
    "    def forward(self, x):\n",
    "        x = self.conv1(x)\n",
    "        x = self.conv2(x)\n",
    "        x = self.conv3(x)\n",
    "        x = x.reshape(-1, 50*3*3)\n",
    "        x = self.fc1(x)\n",
    "        return x\n",
    "    \n",
    "class Generator(torch.nn.Module):\n",
    "    def __init__(self):\n",
    "        super().__init__()\n",
    "        self.fc1 = torch.nn.Sequential(\n",
    "            torch.nn.Linear(10, 100),\n",
    "            torch.nn.ReLU(),\n",
    "            torch.nn.Linear(100, 100),\n",
    "            torch.nn.ReLU(),\n",
    "            torch.nn.Linear(100, 100),\n",
    "            torch.nn.ReLU(),\n",
    "            torch.nn.Linear(100, 784),\n",
    "        )\n",
    "\n",
    "    def forward(self, x):\n",
    "        x = self.fc1(x)\n",
    "        x = x.reshape(-1, 1, 28, 28)\n",
    "        return x\n",
    "    \n",
    "# noise = torch.randn(5, 10)\n",
    "# noise = noise.to(device)\n",
    "# generator = Generator()\n",
    "# generator = generator.to(device)\n",
    "# fake= generator(noise)\n",
    "\n",
    "# discriminator = Discriminator()\n",
    "# discriminator = discriminator.to(device)\n",
    "# pred = discriminator(fake)\n",
    "# pred\n"
   ]
  },
  {
   "cell_type": "code",
   "execution_count": 41,
   "metadata": {},
   "outputs": [],
   "source": [
    "loss_discriminator = torch.nn.CrossEntropyLoss()\n",
    "\n",
    "discriminator = Discriminator().to(device)\n",
    "generator = Generator().to(device)\n",
    "\n",
    "optimizer_discriminator = torch.optim.Adam(discriminator.parameters(), lr=LEARNING_RATE)\n",
    "optimizer_generator = torch.optim.Adam(generator.parameters(), lr=LEARNING_RATE)"
   ]
  },
  {
   "cell_type": "code",
   "execution_count": 42,
   "metadata": {},
   "outputs": [
    {
     "name": "stdout",
     "output_type": "stream",
     "text": [
      "Loss of generator:  1.8238099455833434\n",
      "Loss of generator:  0.31513120581706366\n",
      "Epoch: 49\n",
      "Loss of discriminator:  0.3970691369579678\n",
      "Loss of generator:  2.1389411514004073\n"
     ]
    },
    {
     "data": {
      "image/png": "[encoded data removed]",
      "text/plain": [
       "<Figure size 640x480 with 1 Axes>"
      ]
     },
     "metadata": {},
     "output_type": "display_data"
    },
    {
     "data": {
      "image/png": "[encoded data removed]",
      "text/plain": [
       "<Figure size 640x480 with 1 Axes>"
      ]
     },
     "metadata": {},
     "output_type": "display_data"
    }
   ],
   "source": [
    "for epoch in range(EPOCHS):\n",
    "\n",
    "    lossOfDiscriminator = 0\n",
    "    lossOfGenerator = 0\n",
    "\n",
    "    for i, realImage in enumerate(dataloader):\n",
    "        optimizer_discriminator.zero_grad()\n",
    "        realImage = realImage.to(device)\n",
    "\n",
    "        realLabel = torch.eye(2)[0].repeat(BATCH_SIZE, 1).to(device)\n",
    "        fakeLabel = torch.eye(2)[1].repeat(BATCH_SIZE, 1).to(device)\n",
    "\n",
    "        noise = torch.randn(BATCH_SIZE, 10).to(device)\n",
    "        fakeImage = generator(noise)\n",
    "\n",
    "        pred_real = discriminator(realImage)\n",
    "        pred_fake = discriminator(fakeImage)\n",
    "\n",
    "        loss_real = loss_discriminator(pred_real, realLabel)\n",
    "        loss_fake = loss_discriminator(pred_fake, fakeLabel)\n",
    "        loss = loss_real + loss_fake\n",
    "        loss.backward()\n",
    "        optimizer_discriminator.step()\n",
    "        lossOfDiscriminator += loss.item()\n",
    "\n",
    "        # if i % 5 == 0:\n",
    "        #     print(\"Loss: \", loss.item())\n",
    "\n",
    "    \n",
    "    while True:\n",
    "        avgLoss = 0\n",
    "        for i, realImage in enumerate(dataloader):\n",
    "            optimizer_generator.zero_grad()\n",
    "            realImage = realImage.to(device)\n",
    "\n",
    "            faketargets = torch.eye(2)[0].repeat(BATCH_SIZE, 1).to(device)\n",
    "            realtargets = torch.eye(2)[1].repeat(BATCH_SIZE, 1).to(device)\n",
    "\n",
    "            noise = torch.randn(BATCH_SIZE, 10).to(device)\n",
    "            fakeImage = generator(noise)\n",
    "\n",
    "            pred_fake = discriminator(fakeImage)\n",
    "            pred_real = discriminator(realImage)\n",
    "\n",
    "            fake_loss = loss_discriminator(pred_fake, faketargets)\n",
    "\n",
    "            loss = fake_loss\n",
    "            loss.backward()\n",
    "            optimizer_generator.step()\n",
    "            lossOfGenerator += loss.item()\n",
    "            avgLoss += loss.item()\n",
    "        print(\"Loss of generator: \", avgLoss/len(dataloader))\n",
    "        if avgLoss/len(dataloader) < 1:\n",
    "            break\n",
    "\n",
    "        # if i % 5 == 0:\n",
    "        #     print(\"Loss: \", loss.item())\n",
    "    print(\"Epoch:\",epoch)\n",
    "    print(\"Loss of discriminator: \", lossOfDiscriminator/len(dataloader))\n",
    "    print(\"Loss of generator: \", lossOfGenerator/len(dataloader))\n",
    "\n",
    "\n",
    "    noise = torch.randn(1, 10).to(device)\n",
    "    fakeImage = generator(noise)\n",
    "\n",
    "    y_pred = discriminator(fakeImage)\n",
    "    y_pred = torch.softmax(y_pred, dim=1)\n",
    "\n",
    "    #Show generator output\n",
    "\n",
    "    fakeImage = fakeImage.reshape(28, 28)\n",
    "    fakeImage = fakeImage.detach().cpu().numpy()\n",
    "    plt.imshow(fakeImage, cmap='gray')\n",
    "    plt.show()\n",
    "\n",
    "    #Show real image\n",
    "\n",
    "    realImage = trousers[0]\n",
    "    realImage = realImage.reshape(28, 28)\n",
    "    plt.imshow(realImage, cmap='gray')\n",
    "    plt.show()\n",
    "\n",
    "    clear_output(wait=True)\n",
    "\n",
    "    "
   ]
  },
  {
   "cell_type": "code",
   "execution_count": null,
   "metadata": {},
   "outputs": [],
   "source": [
    "\n",
    "\n",
    "\n"
   ]
  },
  {
   "cell_type": "code",
   "execution_count": 43,
   "metadata": {},
   "outputs": [
    {
     "name": "stdout",
     "output_type": "stream",
     "text": [
      "tensor([[0.9094, 0.0906]], device='cuda:0', grad_fn=<SoftmaxBackward0>)\n"
     ]
    }
   ],
   "source": [
    "#Test\n",
    "\n",
    "noise = torch.randn(1, 10).to(device)\n",
    "fakeImage = generator(noise)\n",
    "\n",
    "y_pred = discriminator(fakeImage)\n",
    "y_pred = torch.softmax(y_pred, dim=1)\n",
    "\n",
    "print(y_pred)"
   ]
  },
  {
   "cell_type": "code",
   "execution_count": 44,
   "metadata": {},
   "outputs": [
    {
     "data": {
      "image/png": "[encoded data removed]",
      "text/plain": [
       "<Figure size 640x480 with 1 Axes>"
      ]
     },
     "metadata": {},
     "output_type": "display_data"
    },
    {
     "data": {
      "image/png": "[encoded data removed]",
      "text/plain": [
       "<Figure size 640x480 with 1 Axes>"
      ]
     },
     "metadata": {},
     "output_type": "display_data"
    }
   ],
   "source": [
    "#Show generator output\n",
    "\n",
    "fakeImage = fakeImage.reshape(28, 28)\n",
    "fakeImage = fakeImage.detach().cpu().numpy()\n",
    "plt.imshow(fakeImage, cmap='gray')\n",
    "plt.show()\n",
    "\n",
    "#Show real image\n",
    "\n",
    "realImage = trousers[0]\n",
    "realImage = realImage.reshape(28, 28)\n",
    "plt.imshow(realImage, cmap='gray')\n",
    "plt.show()"
   ]
  },
  {
   "cell_type": "code",
   "execution_count": null,
   "metadata": {},
   "outputs": [],
   "source": []
  }
 ],
 "metadata": {
  "kernelspec": {
   "display_name": "cudaPytorch",
   "language": "python",
   "name": "python3"
  },
  "language_info": {
   "codemirror_mode": {
    "name": "ipython",
    "version": 3
   },
   "file_extension": ".py",
   "mimetype": "text/x-python",
   "name": "python",
   "nbconvert_exporter": "python",
   "pygments_lexer": "ipython3",
   "version": "3.8.15"
  },
  "orig_nbformat": 4
 },
 "nbformat": 4,
 "nbformat_minor": 2
}
