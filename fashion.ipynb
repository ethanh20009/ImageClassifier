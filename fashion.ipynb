{
 "cells": [
  {
   "cell_type": "code",
   "execution_count": 1,
   "metadata": {},
   "outputs": [
    {
     "name": "stdout",
     "output_type": "stream",
     "text": [
      "cuda\n",
      "9\n"
     ]
    }
   ],
   "source": [
    "import torch\n",
    "import numpy as np\n",
    "import torchvision\n",
    "import torchvision.transforms as transforms\n",
    "from torch.utils.data import DataLoader\n",
    "import matplotlib.pyplot as plt\n",
    "import matplotlib\n",
    "from PIL import Image\n",
    "\n",
    "device = torch.device('cuda' if torch.cuda.is_available() else 'cpu')\n",
    "\n",
    "print(device)\n",
    "\n",
    "trainDataset = torchvision.datasets.FashionMNIST(\"fashionDataset\", train=True, download=True, transform=transforms.ToTensor())\n",
    "testDataset = torchvision.datasets.FashionMNIST(\"fashionTrain\", train=False, download=True, transform=transforms.ToTensor())\n",
    "\n",
    "\n",
    "x,y = trainDataset[0]\n",
    "print(y)"
   ]
  },
  {
   "cell_type": "code",
   "execution_count": 5,
   "metadata": {},
   "outputs": [
    {
     "data": {
      "text/plain": [
       "CNN(\n",
       "  (conv1): Conv2d(1, 5, kernel_size=(3, 3), stride=(1, 1), padding=(1, 1))\n",
       "  (conv2): Conv2d(5, 15, kernel_size=(5, 5), stride=(1, 1), padding=(2, 2))\n",
       "  (conv3): Conv2d(15, 20, kernel_size=(5, 5), stride=(1, 1), padding=(2, 2))\n",
       "  (conv4): Conv2d(20, 20, kernel_size=(5, 5), stride=(1, 1), padding=(2, 2))\n",
       "  (fc1): Linear(in_features=180, out_features=10, bias=True)\n",
       "  (drop): Dropout(p=0.2, inplace=False)\n",
       "  (pool): MaxPool2d(kernel_size=2, stride=2, padding=0, dilation=1, ceil_mode=False)\n",
       "  (conv): Sequential(\n",
       "    (0): MaxPool2d(kernel_size=2, stride=2, padding=0, dilation=1, ceil_mode=False)\n",
       "    (1): ReLU()\n",
       "  )\n",
       ")"
      ]
     },
     "execution_count": 5,
     "metadata": {},
     "output_type": "execute_result"
    }
   ],
   "source": [
    "class CNN(torch.nn.Module):\n",
    "    def __init__(self):\n",
    "        super().__init__()\n",
    "        self.conv1 = torch.nn.Conv2d(1, 5, kernel_size=3, padding=1)\n",
    "        self.conv2 = torch.nn.Conv2d(5, 15, kernel_size=5, padding=2)\n",
    "        self.conv3 = torch.nn.Conv2d(15, 20, kernel_size=5, padding=2)\n",
    "        self.conv4 = torch.nn.Conv2d(20, 20, kernel_size=5, padding=2)\n",
    "        self.fc1 = torch.nn.Linear(180, 10)\n",
    "        self.drop = torch.nn.Dropout(0.20)\n",
    "        self.pool = torch.nn.MaxPool2d(2, 2) #Halfs image\n",
    "\n",
    "        self.conv = torch.nn.Sequential(\n",
    "            self.pool,\n",
    "            torch.nn.ReLU()\n",
    "        )\n",
    "    \n",
    "    def forward(self, x):\n",
    "        x = self.conv(self.conv1(x))\n",
    "        x = self.conv(self.conv2(x))\n",
    "        x = self.conv(self.conv3(x))\n",
    "        x = torch.nn.functional.relu(self.conv4(x))\n",
    "        x = x.reshape((-1, 180))\n",
    "        x = self.fc1(x)\n",
    "        return x\n",
    "\n",
    "    \n",
    "\n",
    "\n",
    "class RisNN(torch.nn.Module):\n",
    "\n",
    "    def __init__(self):\n",
    "        super().__init__()\n",
    "        self.resBlocks = torch.nn.Sequential(\n",
    "            resBlock(1,1),\n",
    "            resBlock(1,1),\n",
    "            resBlock(1,1),\n",
    "            resBlock(1,1)\n",
    "        )\n",
    "        self.fc1 = torch.nn.Sequential(\n",
    "            torch.nn.Linear(784, 100),\n",
    "            torch.nn.ReLU(),\n",
    "            torch.nn.Linear(100, 10)\n",
    "        )\n",
    "        self.relu = torch.nn.ReLU()\n",
    "    \n",
    "    def forward(self,x): \n",
    "        x = self.resBlocks(x)\n",
    "        x = x.reshape((-1, 784))\n",
    "        x = self.fc1(x)\n",
    "        return x\n",
    "\n",
    "class ResConv(torch.nn.Module):\n",
    "    def __init__(self):\n",
    "        super().__init__()\n",
    "        self.block1 = torch.nn.Sequential(\n",
    "            resBlock(1,1),\n",
    "            resBlock(1,1)\n",
    "\n",
    "        )\n",
    "        self.downSample1 = torch.nn.Sequential(\n",
    "            torch.nn.Conv2d(1, 5, kernel_size=5,stride=1,padding=2),\n",
    "            torch.nn.ReLU(),\n",
    "            torch.nn.MaxPool2d(2, 2)\n",
    "        )\n",
    "        self.block2 = torch.nn.Sequential(\n",
    "            resBlock(5,5),\n",
    "            resBlock(5,5),\n",
    "            resBlock(5,5)\n",
    "        )\n",
    "        self.downSample2 = torch.nn.Sequential(\n",
    "            torch.nn.Conv2d(5, 20, kernel_size=5,stride=1,padding=2),\n",
    "            torch.nn.ReLU(),\n",
    "            torch.nn.MaxPool2d(2, 2),\n",
    "            torch.nn.Conv2d(20, 30, kernel_size=5,stride=1,padding=2),\n",
    "            torch.nn.ReLU(),\n",
    "            torch.nn.Conv2d(30, 50, kernel_size=5,stride=1,padding=2),\n",
    "            torch.nn.ReLU(),\n",
    "            torch.nn.MaxPool2d(2, 2)\n",
    "        )\n",
    "        self.block3 = torch.nn.Sequential(\n",
    "            resBlock(50,50),\n",
    "            resBlock(50,50),\n",
    "            resBlock(50,50),\n",
    "            resBlock(50,50)\n",
    "        )\n",
    "        self.fc1 = torch.nn.Sequential(\n",
    "            torch.nn.Linear(450, 200),\n",
    "            torch.nn.ReLU(),\n",
    "            torch.nn.Linear(200, 100),\n",
    "            torch.nn.ReLU(),\n",
    "            torch.nn.Linear(100, 10)\n",
    "        )\n",
    "    def forward(self, x):\n",
    "        x = self.block1(x)\n",
    "        x = self.downSample1(x)\n",
    "        x = self.block2(x)\n",
    "        x = self.downSample2(x)\n",
    "        x = self.block3(x)\n",
    "        x = x.reshape(-1, 450)\n",
    "        x = self.fc1(x)\n",
    "        return x\n",
    "    \n",
    "class resBlock(torch.nn.Module):\n",
    "    def __init__(self, inChannels, outChannels):\n",
    "        super().__init__()\n",
    "        self.conv1 = torch.nn.Conv2d(inChannels, outChannels, kernel_size=3, padding=1)\n",
    "        self.conv2 = torch.nn.Conv2d(outChannels, outChannels, kernel_size=3, padding=1)\n",
    "        self.bn = torch.nn.BatchNorm2d(outChannels, track_running_stats=False)\n",
    "        self.relu = torch.nn.ReLU()\n",
    "    def forward(self, x):\n",
    "        x = self.bn(x)\n",
    "        y = self.conv1(x)\n",
    "        y = self.relu(y)\n",
    "        y = self.conv2(y)\n",
    "        y = self.bn(y)\n",
    "        y = self.relu(y)\n",
    "        x = x + y\n",
    "        return x\n",
    "    \n",
    "test = torch.randn(size=(100, 1, 28, 28),device=device)\n",
    "model = CNN()\n",
    "model.to(device)\n",
    "#print model params count\n",
    "#print(sum(p.numel() for p in model.parameters() if p.requires_grad))\n",
    "\n"
   ]
  },
  {
   "cell_type": "code",
   "execution_count": 6,
   "metadata": {},
   "outputs": [],
   "source": [
    "epochs = 50\n",
    "batchSize = 1000\n",
    "dataloader = DataLoader(trainDataset, batch_size=batchSize, shuffle=True, num_workers=4)\n",
    "trainDataLoader = DataLoader(trainDataset, batch_size=batchSize, shuffle=False, num_workers=4)\n",
    "testDataLoader = DataLoader(testDataset, batch_size=batchSize, shuffle=False, num_workers=4)\n",
    "\n",
    "loss = torch.nn.CrossEntropyLoss()\n",
    "optimiser = torch.optim.Adam(model.parameters(), lr=1e-3, weight_decay=1e-5)\n",
    "\n",
    "\n"
   ]
  },
  {
   "cell_type": "code",
   "execution_count": 7,
   "metadata": {},
   "outputs": [
    {
     "ename": "KeyboardInterrupt",
     "evalue": "",
     "output_type": "error",
     "traceback": [
      "\u001b[1;31m---------------------------------------------------------------------------\u001b[0m",
      "\u001b[1;31mKeyboardInterrupt\u001b[0m                         Traceback (most recent call last)",
      "Cell \u001b[1;32mIn[7], line 10\u001b[0m\n\u001b[0;32m      7\u001b[0m model\u001b[39m.\u001b[39mtrain()\n\u001b[0;32m      8\u001b[0m totalCost \u001b[39m=\u001b[39m \u001b[39m0\u001b[39m\n\u001b[1;32m---> 10\u001b[0m \u001b[39mfor\u001b[39;00m xBatch, yBatch \u001b[39min\u001b[39;00m dataloader:\n\u001b[0;32m     11\u001b[0m     optimiser\u001b[39m.\u001b[39mzero_grad()\n\u001b[0;32m     12\u001b[0m     xBatch \u001b[39m=\u001b[39m xBatch\u001b[39m.\u001b[39mto(device)\n",
      "File \u001b[1;32mc:\\Users\\ethan\\.conda\\envs\\cudaPytorch\\lib\\site-packages\\torch\\utils\\data\\dataloader.py:628\u001b[0m, in \u001b[0;36m_BaseDataLoaderIter.__next__\u001b[1;34m(self)\u001b[0m\n\u001b[0;32m    625\u001b[0m \u001b[39mif\u001b[39;00m \u001b[39mself\u001b[39m\u001b[39m.\u001b[39m_sampler_iter \u001b[39mis\u001b[39;00m \u001b[39mNone\u001b[39;00m:\n\u001b[0;32m    626\u001b[0m     \u001b[39m# TODO(https://github.com/pytorch/pytorch/issues/76750)\u001b[39;00m\n\u001b[0;32m    627\u001b[0m     \u001b[39mself\u001b[39m\u001b[39m.\u001b[39m_reset()  \u001b[39m# type: ignore[call-arg]\u001b[39;00m\n\u001b[1;32m--> 628\u001b[0m data \u001b[39m=\u001b[39m \u001b[39mself\u001b[39;49m\u001b[39m.\u001b[39;49m_next_data()\n\u001b[0;32m    629\u001b[0m \u001b[39mself\u001b[39m\u001b[39m.\u001b[39m_num_yielded \u001b[39m+\u001b[39m\u001b[39m=\u001b[39m \u001b[39m1\u001b[39m\n\u001b[0;32m    630\u001b[0m \u001b[39mif\u001b[39;00m \u001b[39mself\u001b[39m\u001b[39m.\u001b[39m_dataset_kind \u001b[39m==\u001b[39m _DatasetKind\u001b[39m.\u001b[39mIterable \u001b[39mand\u001b[39;00m \\\n\u001b[0;32m    631\u001b[0m         \u001b[39mself\u001b[39m\u001b[39m.\u001b[39m_IterableDataset_len_called \u001b[39mis\u001b[39;00m \u001b[39mnot\u001b[39;00m \u001b[39mNone\u001b[39;00m \u001b[39mand\u001b[39;00m \\\n\u001b[0;32m    632\u001b[0m         \u001b[39mself\u001b[39m\u001b[39m.\u001b[39m_num_yielded \u001b[39m>\u001b[39m \u001b[39mself\u001b[39m\u001b[39m.\u001b[39m_IterableDataset_len_called:\n",
      "File \u001b[1;32mc:\\Users\\ethan\\.conda\\envs\\cudaPytorch\\lib\\site-packages\\torch\\utils\\data\\dataloader.py:1316\u001b[0m, in \u001b[0;36m_MultiProcessingDataLoaderIter._next_data\u001b[1;34m(self)\u001b[0m\n\u001b[0;32m   1313\u001b[0m     \u001b[39mreturn\u001b[39;00m \u001b[39mself\u001b[39m\u001b[39m.\u001b[39m_process_data(data)\n\u001b[0;32m   1315\u001b[0m \u001b[39massert\u001b[39;00m \u001b[39mnot\u001b[39;00m \u001b[39mself\u001b[39m\u001b[39m.\u001b[39m_shutdown \u001b[39mand\u001b[39;00m \u001b[39mself\u001b[39m\u001b[39m.\u001b[39m_tasks_outstanding \u001b[39m>\u001b[39m \u001b[39m0\u001b[39m\n\u001b[1;32m-> 1316\u001b[0m idx, data \u001b[39m=\u001b[39m \u001b[39mself\u001b[39;49m\u001b[39m.\u001b[39;49m_get_data()\n\u001b[0;32m   1317\u001b[0m \u001b[39mself\u001b[39m\u001b[39m.\u001b[39m_tasks_outstanding \u001b[39m-\u001b[39m\u001b[39m=\u001b[39m \u001b[39m1\u001b[39m\n\u001b[0;32m   1318\u001b[0m \u001b[39mif\u001b[39;00m \u001b[39mself\u001b[39m\u001b[39m.\u001b[39m_dataset_kind \u001b[39m==\u001b[39m _DatasetKind\u001b[39m.\u001b[39mIterable:\n\u001b[0;32m   1319\u001b[0m     \u001b[39m# Check for _IterableDatasetStopIteration\u001b[39;00m\n",
      "File \u001b[1;32mc:\\Users\\ethan\\.conda\\envs\\cudaPytorch\\lib\\site-packages\\torch\\utils\\data\\dataloader.py:1282\u001b[0m, in \u001b[0;36m_MultiProcessingDataLoaderIter._get_data\u001b[1;34m(self)\u001b[0m\n\u001b[0;32m   1278\u001b[0m     \u001b[39m# In this case, `self._data_queue` is a `queue.Queue`,. But we don't\u001b[39;00m\n\u001b[0;32m   1279\u001b[0m     \u001b[39m# need to call `.task_done()` because we don't use `.join()`.\u001b[39;00m\n\u001b[0;32m   1280\u001b[0m \u001b[39melse\u001b[39;00m:\n\u001b[0;32m   1281\u001b[0m     \u001b[39mwhile\u001b[39;00m \u001b[39mTrue\u001b[39;00m:\n\u001b[1;32m-> 1282\u001b[0m         success, data \u001b[39m=\u001b[39m \u001b[39mself\u001b[39;49m\u001b[39m.\u001b[39;49m_try_get_data()\n\u001b[0;32m   1283\u001b[0m         \u001b[39mif\u001b[39;00m success:\n\u001b[0;32m   1284\u001b[0m             \u001b[39mreturn\u001b[39;00m data\n",
      "File \u001b[1;32mc:\\Users\\ethan\\.conda\\envs\\cudaPytorch\\lib\\site-packages\\torch\\utils\\data\\dataloader.py:1120\u001b[0m, in \u001b[0;36m_MultiProcessingDataLoaderIter._try_get_data\u001b[1;34m(self, timeout)\u001b[0m\n\u001b[0;32m   1107\u001b[0m \u001b[39mdef\u001b[39;00m \u001b[39m_try_get_data\u001b[39m(\u001b[39mself\u001b[39m, timeout\u001b[39m=\u001b[39m_utils\u001b[39m.\u001b[39mMP_STATUS_CHECK_INTERVAL):\n\u001b[0;32m   1108\u001b[0m     \u001b[39m# Tries to fetch data from `self._data_queue` once for a given timeout.\u001b[39;00m\n\u001b[0;32m   1109\u001b[0m     \u001b[39m# This can also be used as inner loop of fetching without timeout, with\u001b[39;00m\n\u001b[1;32m   (...)\u001b[0m\n\u001b[0;32m   1117\u001b[0m     \u001b[39m# Returns a 2-tuple:\u001b[39;00m\n\u001b[0;32m   1118\u001b[0m     \u001b[39m#   (bool: whether successfully get data, any: data if successful else None)\u001b[39;00m\n\u001b[0;32m   1119\u001b[0m     \u001b[39mtry\u001b[39;00m:\n\u001b[1;32m-> 1120\u001b[0m         data \u001b[39m=\u001b[39m \u001b[39mself\u001b[39;49m\u001b[39m.\u001b[39;49m_data_queue\u001b[39m.\u001b[39;49mget(timeout\u001b[39m=\u001b[39;49mtimeout)\n\u001b[0;32m   1121\u001b[0m         \u001b[39mreturn\u001b[39;00m (\u001b[39mTrue\u001b[39;00m, data)\n\u001b[0;32m   1122\u001b[0m     \u001b[39mexcept\u001b[39;00m \u001b[39mException\u001b[39;00m \u001b[39mas\u001b[39;00m e:\n\u001b[0;32m   1123\u001b[0m         \u001b[39m# At timeout and error, we manually check whether any worker has\u001b[39;00m\n\u001b[0;32m   1124\u001b[0m         \u001b[39m# failed. Note that this is the only mechanism for Windows to detect\u001b[39;00m\n\u001b[0;32m   1125\u001b[0m         \u001b[39m# worker failures.\u001b[39;00m\n",
      "File \u001b[1;32mc:\\Users\\ethan\\.conda\\envs\\cudaPytorch\\lib\\multiprocessing\\queues.py:107\u001b[0m, in \u001b[0;36mQueue.get\u001b[1;34m(self, block, timeout)\u001b[0m\n\u001b[0;32m    105\u001b[0m \u001b[39mif\u001b[39;00m block:\n\u001b[0;32m    106\u001b[0m     timeout \u001b[39m=\u001b[39m deadline \u001b[39m-\u001b[39m time\u001b[39m.\u001b[39mmonotonic()\n\u001b[1;32m--> 107\u001b[0m     \u001b[39mif\u001b[39;00m \u001b[39mnot\u001b[39;00m \u001b[39mself\u001b[39;49m\u001b[39m.\u001b[39;49m_poll(timeout):\n\u001b[0;32m    108\u001b[0m         \u001b[39mraise\u001b[39;00m Empty\n\u001b[0;32m    109\u001b[0m \u001b[39melif\u001b[39;00m \u001b[39mnot\u001b[39;00m \u001b[39mself\u001b[39m\u001b[39m.\u001b[39m_poll():\n",
      "File \u001b[1;32mc:\\Users\\ethan\\.conda\\envs\\cudaPytorch\\lib\\multiprocessing\\connection.py:257\u001b[0m, in \u001b[0;36m_ConnectionBase.poll\u001b[1;34m(self, timeout)\u001b[0m\n\u001b[0;32m    255\u001b[0m \u001b[39mself\u001b[39m\u001b[39m.\u001b[39m_check_closed()\n\u001b[0;32m    256\u001b[0m \u001b[39mself\u001b[39m\u001b[39m.\u001b[39m_check_readable()\n\u001b[1;32m--> 257\u001b[0m \u001b[39mreturn\u001b[39;00m \u001b[39mself\u001b[39;49m\u001b[39m.\u001b[39;49m_poll(timeout)\n",
      "File \u001b[1;32mc:\\Users\\ethan\\.conda\\envs\\cudaPytorch\\lib\\multiprocessing\\connection.py:330\u001b[0m, in \u001b[0;36mPipeConnection._poll\u001b[1;34m(self, timeout)\u001b[0m\n\u001b[0;32m    327\u001b[0m \u001b[39mif\u001b[39;00m (\u001b[39mself\u001b[39m\u001b[39m.\u001b[39m_got_empty_message \u001b[39mor\u001b[39;00m\n\u001b[0;32m    328\u001b[0m             _winapi\u001b[39m.\u001b[39mPeekNamedPipe(\u001b[39mself\u001b[39m\u001b[39m.\u001b[39m_handle)[\u001b[39m0\u001b[39m] \u001b[39m!=\u001b[39m \u001b[39m0\u001b[39m):\n\u001b[0;32m    329\u001b[0m     \u001b[39mreturn\u001b[39;00m \u001b[39mTrue\u001b[39;00m\n\u001b[1;32m--> 330\u001b[0m \u001b[39mreturn\u001b[39;00m \u001b[39mbool\u001b[39m(wait([\u001b[39mself\u001b[39;49m], timeout))\n",
      "File \u001b[1;32mc:\\Users\\ethan\\.conda\\envs\\cudaPytorch\\lib\\multiprocessing\\connection.py:879\u001b[0m, in \u001b[0;36mwait\u001b[1;34m(object_list, timeout)\u001b[0m\n\u001b[0;32m    876\u001b[0m                 ready_objects\u001b[39m.\u001b[39madd(o)\n\u001b[0;32m    877\u001b[0m                 timeout \u001b[39m=\u001b[39m \u001b[39m0\u001b[39m\n\u001b[1;32m--> 879\u001b[0m     ready_handles \u001b[39m=\u001b[39m _exhaustive_wait(waithandle_to_obj\u001b[39m.\u001b[39;49mkeys(), timeout)\n\u001b[0;32m    880\u001b[0m \u001b[39mfinally\u001b[39;00m:\n\u001b[0;32m    881\u001b[0m     \u001b[39m# request that overlapped reads stop\u001b[39;00m\n\u001b[0;32m    882\u001b[0m     \u001b[39mfor\u001b[39;00m ov \u001b[39min\u001b[39;00m ov_list:\n",
      "File \u001b[1;32mc:\\Users\\ethan\\.conda\\envs\\cudaPytorch\\lib\\multiprocessing\\connection.py:811\u001b[0m, in \u001b[0;36m_exhaustive_wait\u001b[1;34m(handles, timeout)\u001b[0m\n\u001b[0;32m    809\u001b[0m ready \u001b[39m=\u001b[39m []\n\u001b[0;32m    810\u001b[0m \u001b[39mwhile\u001b[39;00m L:\n\u001b[1;32m--> 811\u001b[0m     res \u001b[39m=\u001b[39m _winapi\u001b[39m.\u001b[39;49mWaitForMultipleObjects(L, \u001b[39mFalse\u001b[39;49;00m, timeout)\n\u001b[0;32m    812\u001b[0m     \u001b[39mif\u001b[39;00m res \u001b[39m==\u001b[39m WAIT_TIMEOUT:\n\u001b[0;32m    813\u001b[0m         \u001b[39mbreak\u001b[39;00m\n",
      "\u001b[1;31mKeyboardInterrupt\u001b[0m: "
     ]
    }
   ],
   "source": [
    "from IPython.display import clear_output\n",
    "\n",
    "history = []\n",
    "accuracy = []\n",
    "validationAcc = []\n",
    "for i in range(epochs):\n",
    "    model.train()\n",
    "    totalCost = 0\n",
    "  \n",
    "    for xBatch, yBatch in dataloader:\n",
    "        optimiser.zero_grad()\n",
    "        xBatch = xBatch.to(device)\n",
    "        yBatch = yBatch.to(device)\n",
    "        \n",
    "        y_this = model(xBatch)\n",
    "        cost = loss(y_this, yBatch)\n",
    "        cost.backward()\n",
    "        totalCost += cost.item()\n",
    "\n",
    "        optimiser.step()\n",
    "    history.append(totalCost/len(trainDataset))\n",
    "\n",
    "    if i % 5 == 0:\n",
    "        ##Plot acc\n",
    "        model.eval()\n",
    "        numRight = 0\n",
    "        for xBatch, yBatch in trainDataLoader:\n",
    "            xBatch = xBatch.to(device)\n",
    "            yBatch = yBatch.to(device)\n",
    "            y_this = model(xBatch)\n",
    "            indexOut = torch.argmax(y_this, dim=1)\n",
    "            matches = indexOut == yBatch\n",
    "            numRight += matches.sum().item()/len(yBatch)\n",
    "        accuracy.append((numRight*100)/len(trainDataLoader))\n",
    "\n",
    "        plt.figure(figsize=(6,3))\n",
    "        plt.plot(accuracy)\n",
    "        plt.show()\n",
    "        print(i)\n",
    "        clear_output(wait=True)\n",
    "\n",
    "        ##\n",
    "        ##Test validation set\n",
    "        model.eval()\n",
    "        numRight = 0\n",
    "        for xBatch, yBatch in testDataLoader:\n",
    "            xBatch = xBatch.to(device)\n",
    "            yBatch = yBatch.to(device)\n",
    "            y_this = model(xBatch)\n",
    "            indexOut = torch.argmax(y_this, dim=1)\n",
    "            matches = indexOut == yBatch\n",
    "            numRight += matches.sum().item()/len(yBatch)\n",
    "        validationAcc.append((numRight*100)/len(testDataLoader))\n",
    "\n",
    "\n",
    "plt.plot(history)\n",
    "plt.show()\n",
    "plt.plot(accuracy)\n",
    "plt.show()\n",
    "plt.plot(validationAcc)\n",
    "plt.show()\n",
    "\n",
    "\n"
   ]
  },
  {
   "cell_type": "code",
   "execution_count": 8,
   "metadata": {},
   "outputs": [],
   "source": [
    "torch.save(model.state_dict(), \"cnnParams.pt\")"
   ]
  },
  {
   "cell_type": "code",
   "execution_count": 34,
   "metadata": {},
   "outputs": [
    {
     "data": {
      "text/plain": [
       "<matplotlib.image.AxesImage at 0x24f12bda6d0>"
      ]
     },
     "execution_count": 34,
     "metadata": {},
     "output_type": "execute_result"
    },
    {
     "data": {
      "image/png": "[encoded data removed]",
      "text/plain": [
       "<Figure size 600x300 with 1 Axes>"
      ]
     },
     "metadata": {},
     "output_type": "display_data"
    }
   ],
   "source": [
    "model.eval()\n",
    "labels = [\"T-shirt/top\", \"Trouser\", \"Pullover\", \"Dress\", \"Coat\", \"Sandal\", \"Shirt\", \"Sneaker\", \"Bag\", \"Ankle boot\"]\n",
    "testImage, expectedOutput = trainDataset[221]\n",
    "testImage = testImage.reshape(1,28,28)\n",
    "modelOutput = model(testImage.to(device).reshape(-1, 1, 28, 28))\n",
    "index = torch.argmax(modelOutput[0], dim=0).item()\n",
    "\n",
    "plt.figure(figsize=[6,3])\n",
    "plt.title( labels[index])\n",
    "plt.xlabel(\"True: \"+labels[expectedOutput])\n",
    "plt.imshow(testImage[0], cmap=\"gray\")"
   ]
  },
  {
   "cell_type": "code",
   "execution_count": 9,
   "metadata": {},
   "outputs": [
    {
     "name": "stdout",
     "output_type": "stream",
     "text": [
      "89.81500000000004\n"
     ]
    }
   ],
   "source": [
    "##Test Entire ds for accuracy\n",
    "model.eval()\n",
    "numRight = 0\n",
    "for xBatch, yBatch in trainDataLoader:\n",
    "    xBatch = xBatch.to(device)\n",
    "    yBatch = yBatch.to(device)\n",
    "    y_this = model(xBatch)\n",
    "    indexOut = torch.argmax(y_this, dim=1)\n",
    "    matches = indexOut == yBatch\n",
    "    numRight += matches.sum().item()/len(yBatch)\n",
    "print((numRight*100)/len(trainDataLoader))\n",
    "\n"
   ]
  },
  {
   "cell_type": "code",
   "execution_count": 10,
   "metadata": {},
   "outputs": [
    {
     "name": "stdout",
     "output_type": "stream",
     "text": [
      "88.12999999999998\n"
     ]
    }
   ],
   "source": [
    "##Test validation set\n",
    "model.eval()\n",
    "numRight = 0\n",
    "for xBatch, yBatch in testDataLoader:\n",
    "    xBatch = xBatch.to(device)\n",
    "    yBatch = yBatch.to(device)\n",
    "    y_this = model(xBatch)\n",
    "    indexOut = torch.argmax(y_this, dim=1)\n",
    "    matches = indexOut == yBatch\n",
    "    numRight += matches.sum().item()/len(yBatch)\n",
    "print((numRight*100)/len(testDataLoader))"
   ]
  },
  {
   "cell_type": "code",
   "execution_count": 11,
   "metadata": {},
   "outputs": [
    {
     "data": {
      "image/png": "[encoded data removed]",
      "text/plain": [
       "<Figure size 640x480 with 1 Axes>"
      ]
     },
     "metadata": {},
     "output_type": "display_data"
    },
    {
     "data": {
      "image/png": "[encoded data removed]",
      "text/plain": [
       "<Figure size 640x480 with 1 Axes>"
      ]
     },
     "metadata": {},
     "output_type": "display_data"
    }
   ],
   "source": [
    "plt.plot(accuracy)\n",
    "plt.show()\n",
    "plt.plot(validationAcc)\n",
    "plt.show()"
   ]
  },
  {
   "cell_type": "code",
   "execution_count": 11,
   "metadata": {},
   "outputs": [
    {
     "name": "stdout",
     "output_type": "stream",
     "text": [
      "348794\n"
     ]
    }
   ],
   "source": [
    "model.load_state_dict(torch.load(\"resConvParams2.pt\", map_location=device))\n",
    "\n",
    "#get number of parameters in model\n",
    "total_params = sum(p.numel() for p in model.parameters())\n",
    "print(total_params)"
   ]
  },
  {
   "cell_type": "code",
   "execution_count": 4,
   "metadata": {},
   "outputs": [
    {
     "data": {
      "image/png": "[encoded data removed]",
      "text/plain": [
       "<Figure size 640x480 with 1 Axes>"
      ]
     },
     "metadata": {},
     "output_type": "display_data"
    },
    {
     "data": {
      "image/png": "[encoded data removed]",
      "text/plain": [
       "<Figure size 640x480 with 1 Axes>"
      ]
     },
     "metadata": {},
     "output_type": "display_data"
    }
   ],
   "source": [
    "imgX, labelY = trainDataset[0]\n",
    "imgX = imgX.reshape(28,28)\n",
    "\n",
    "imgTest, testY = testDataset[0]\n",
    "imgTest = imgTest.reshape(28,28)\n",
    "\n",
    "plt.imshow(imgX, cmap=\"gray\")\n",
    "plt.title(\"Training datapoint\")\n",
    "plt.show()\n",
    "plt.imshow(imgTest, cmap=\"gray\")\n",
    "plt.title(\"Test datapoint\")\n",
    "plt.show()"
   ]
  },
  {
   "cell_type": "code",
   "execution_count": 24,
   "metadata": {},
   "outputs": [
    {
     "name": "stdout",
     "output_type": "stream",
     "text": [
      "348794\n"
     ]
    }
   ],
   "source": [
    "total_params = sum(p.numel() for p in model.parameters())\n",
    "print(total_params)"
   ]
  },
  {
   "cell_type": "code",
   "execution_count": null,
   "metadata": {},
   "outputs": [],
   "source": []
  }
 ],
 "metadata": {
  "kernelspec": {
   "display_name": "cudaPytorch",
   "language": "python",
   "name": "python3"
  },
  "language_info": {
   "codemirror_mode": {
    "name": "ipython",
    "version": 3
   },
   "file_extension": ".py",
   "mimetype": "text/x-python",
   "name": "python",
   "nbconvert_exporter": "python",
   "pygments_lexer": "ipython3",
   "version": "3.8.15"
  },
  "orig_nbformat": 4
 },
 "nbformat": 4,
 "nbformat_minor": 2
}
