{
 "cells": [
  {
   "cell_type": "code",
   "execution_count": 1,
   "metadata": {},
   "outputs": [
    {
     "name": "stdout",
     "output_type": "stream",
     "text": [
      "cuda\n",
      "9\n"
     ]
    }
   ],
   "source": [
    "import torch\n",
    "import numpy as np\n",
    "import torchvision\n",
    "import torchvision.transforms as transforms\n",
    "from torch.utils.data import DataLoader\n",
    "import matplotlib.pyplot as plt\n",
    "import matplotlib\n",
    "from PIL import Image\n",
    "\n",
    "device = torch.device('cuda' if torch.cuda.is_available() else 'cpu')\n",
    "\n",
    "print(device)\n",
    "\n",
    "trainDataset = torchvision.datasets.FashionMNIST(\"fashionDataset\", train=True, download=True, transform=transforms.ToTensor())\n",
    "\n",
    "\n",
    "x,y = trainDataset[0]\n",
    "print(y)"
   ]
  },
  {
   "cell_type": "code",
   "execution_count": 2,
   "metadata": {},
   "outputs": [
    {
     "data": {
      "text/plain": [
       "RisNN(\n",
       "  (c1): Sequential(\n",
       "    (0): Conv2d(1, 1, kernel_size=(5, 5), stride=(1, 1), padding=(2, 2))\n",
       "  )\n",
       "  (fc1): Sequential(\n",
       "    (0): Linear(in_features=784, out_features=100, bias=True)\n",
       "    (1): ReLU()\n",
       "    (2): Linear(in_features=100, out_features=10, bias=True)\n",
       "  )\n",
       "  (bn): BatchNorm2d(1, eps=1e-05, momentum=0.1, affine=True, track_running_stats=True)\n",
       "  (relu): ReLU()\n",
       ")"
      ]
     },
     "execution_count": 2,
     "metadata": {},
     "output_type": "execute_result"
    }
   ],
   "source": [
    "class CNN(torch.nn.Module):\n",
    "    def __init__(self):\n",
    "        super().__init__()\n",
    "        self.conv1 = torch.nn.Conv2d(1, 3, kernel_size=3, padding=1)\n",
    "        self.conv2 = torch.nn.Conv2d(3, 9, kernel_size=5, padding=2)\n",
    "        self.conv3 = torch.nn.Conv2d(9, 20, kernel_size=5, padding=2)\n",
    "        self.conv4 = torch.nn.Conv2d(20, 25, kernel_size=5, padding=2)\n",
    "        self.fc1 = torch.nn.Linear(225, 100)\n",
    "        self.fc2 = torch.nn.Linear(100, 10)\n",
    "        self.drop = torch.nn.Dropout(0.20)\n",
    "        self.pool = torch.nn.MaxPool2d(2, 2) #Halfs image\n",
    "\n",
    "        self.conv = torch.nn.Sequential(\n",
    "            self.pool,\n",
    "            torch.nn.ReLU()\n",
    "        )\n",
    "    \n",
    "    def forward(self, x):\n",
    "\n",
    "        x = self.conv(self.conv1(x))\n",
    "        x = self.conv(self.conv2(x))\n",
    "        x = self.conv(self.conv3(x))\n",
    "        x = torch.nn.functional.relu(self.conv4(x))\n",
    "        x = x.reshape((-1, 225))\n",
    "        x = torch.nn.functional.relu(self.fc1(x))\n",
    "        x = self.fc2(x)\n",
    "        return x\n",
    "\n",
    "    \n",
    "\n",
    "\n",
    "class RisNN(torch.nn.Module):\n",
    "\n",
    "    def __init__(self):\n",
    "        super().__init__()\n",
    "        self.c1 = torch.nn.Sequential(\n",
    "            torch.nn.Conv2d(1, 1, kernel_size=5, padding=2)\n",
    "        )\n",
    "        self.fc1 = torch.nn.Sequential(\n",
    "            torch.nn.Linear(784, 100),\n",
    "            torch.nn.ReLU(),\n",
    "            torch.nn.Linear(100, 10)\n",
    "        )\n",
    "        self.bn = torch.nn.BatchNorm2d(1)\n",
    "        self.relu = torch.nn.ReLU()\n",
    "    \n",
    "    def forward(self,x):\n",
    "        x = self.residual(x, self.c1)\n",
    "        x = self.residual(x, self.c1)\n",
    "        x = self.residual(x, self.c1)\n",
    "        x = self.residual(x, self.c1)\n",
    "        x = self.residual(x, self.c1)\n",
    "        x = self.residual(x, self.c1)\n",
    "        x = x.reshape((-1, 784))\n",
    "        x = self.fc1(x)\n",
    "        return x\n",
    "\n",
    "    def residual(self, x, func):\n",
    "        x += func(self.relu(x))\n",
    "        x = self.bn(x)\n",
    "        return x\n",
    "    \n",
    "test = torch.randn(size=(100, 1, 28, 28),device=device)\n",
    "model = RisNN()\n",
    "model.to(device)\n",
    "\n",
    "\n",
    "\n"
   ]
  },
  {
   "cell_type": "code",
   "execution_count": 3,
   "metadata": {},
   "outputs": [],
   "source": [
    "epochs = 5\n",
    "batchSize = 600\n",
    "dataloader = DataLoader(trainDataset, batch_size=batchSize, shuffle=True, num_workers=4)\n",
    "\n",
    "\n",
    "loss = torch.nn.CrossEntropyLoss()\n",
    "optimiser = torch.optim.Adam(model.parameters(), lr=1e-3, weight_decay=1e-6)\n",
    "\n",
    "\n"
   ]
  },
  {
   "cell_type": "code",
   "execution_count": 11,
   "metadata": {},
   "outputs": [
    {
     "data": {
      "image/png": "[encoded data removed]",
      "text/plain": [
       "<Figure size 640x480 with 1 Axes>"
      ]
     },
     "metadata": {},
     "output_type": "display_data"
    }
   ],
   "source": [
    "from IPython.display import clear_output\n",
    "\n",
    "history = []\n",
    "accuracy = []\n",
    "model.train()\n",
    "for i in range(epochs):\n",
    "    totalCost = 0\n",
    "  \n",
    "    for xBatch, yBatch in dataloader:\n",
    "        optimiser.zero_grad()\n",
    "        xBatch = xBatch.to(device)\n",
    "        yBatch = yBatch.to(device)\n",
    "        \n",
    "        y_this = model(xBatch)\n",
    "\n",
    "        cost = loss(y_this, yBatch)\n",
    "        cost.backward()\n",
    "        totalCost += cost.item()\n",
    "\n",
    "        optimiser.step()\n",
    "    ##Plot acc\n",
    "    ySet = trainDataset.targets.to(device)\n",
    "    xSet = trainDataset.data.reshape(-1, 1, 28, 28)\n",
    "    xSet = xSet.to(device).to(torch.float)\n",
    "    modelOutput = model(xSet)\n",
    "\n",
    "    indexOut = torch.argmax(modelOutput, dim=1)\n",
    "    matches = indexOut == ySet\n",
    "    accuracy.append(matches.sum().item()*100/len(ySet))\n",
    "\n",
    "    plt.figure(figsize=(6,3))\n",
    "    plt.plot(accuracy)\n",
    "    plt.show()\n",
    "    print(i)\n",
    "    clear_output(wait=True)\n",
    "\n",
    "    history.append(totalCost/len(trainDataset))\n",
    "plt.plot(history)\n",
    "plt.show()\n",
    "\n"
   ]
  },
  {
   "cell_type": "code",
   "execution_count": null,
   "metadata": {},
   "outputs": [],
   "source": [
    "torch.save(model.state_dict(), \"resModelParams.pt\")"
   ]
  },
  {
   "cell_type": "code",
   "execution_count": 7,
   "metadata": {},
   "outputs": [
    {
     "data": {
      "text/plain": [
       "<matplotlib.image.AxesImage at 0x1ba1e3791c0>"
      ]
     },
     "execution_count": 7,
     "metadata": {},
     "output_type": "execute_result"
    },
    {
     "data": {
      "image/png": "[encoded data removed]",
      "text/plain": [
       "<Figure size 600x300 with 1 Axes>"
      ]
     },
     "metadata": {},
     "output_type": "display_data"
    }
   ],
   "source": [
    "model.eval()\n",
    "labels = [\"T-shirt/top\", \"Trouser\", \"Pullover\", \"Dress\", \"Coat\", \"Sandal\", \"Shirt\", \"Sneaker\", \"Bag\", \"Ankle boot\"]\n",
    "testImage, expectedOutput = trainDataset[20]\n",
    "testImage = testImage.reshape(1,28,28)\n",
    "modelOutput = model(testImage.to(device).reshape(-1, 1, 28, 28))\n",
    "index = torch.argmax(modelOutput[0], dim=0).item()\n",
    "\n",
    "plt.figure(figsize=[6,3])\n",
    "plt.title( labels[index])\n",
    "plt.xlabel(\"True: \"+labels[expectedOutput])\n",
    "plt.imshow(testImage[0], cmap=\"gray\")"
   ]
  },
  {
   "cell_type": "code",
   "execution_count": 12,
   "metadata": {},
   "outputs": [
    {
     "name": "stdout",
     "output_type": "stream",
     "text": [
      "93.97333333333333\n"
     ]
    }
   ],
   "source": [
    "##Test Entire ds for accuracy\n",
    "model.train()\n",
    "ySet = trainDataset.targets.to(device)\n",
    "xSet = trainDataset.data.reshape(-1, 1, 28, 28)\n",
    "xSet = xSet.to(device).to(torch.float)\n",
    "modelOutput = model(xSet)\n",
    "\n",
    "indexOut = torch.argmax(modelOutput, dim=1)\n",
    "matches = indexOut == ySet\n",
    "print(matches.sum().item()*100/len(ySet))\n"
   ]
  },
  {
   "cell_type": "code",
   "execution_count": null,
   "metadata": {},
   "outputs": [],
   "source": [
    "plt.plot(accuracy)\n",
    "plt.show()"
   ]
  },
  {
   "cell_type": "code",
   "execution_count": null,
   "metadata": {},
   "outputs": [],
   "source": [
    "model.load_state_dict(torch.load(\"resModelParams.pt\"))"
   ]
  },
  {
   "cell_type": "code",
   "execution_count": null,
   "metadata": {},
   "outputs": [],
   "source": []
  }
 ],
 "metadata": {
  "kernelspec": {
   "display_name": "cudaPytorch",
   "language": "python",
   "name": "python3"
  },
  "language_info": {
   "codemirror_mode": {
    "name": "ipython",
    "version": 3
   },
   "file_extension": ".py",
   "mimetype": "text/x-python",
   "name": "python",
   "nbconvert_exporter": "python",
   "pygments_lexer": "ipython3",
   "version": "3.8.15"
  },
  "orig_nbformat": 4
 },
 "nbformat": 4,
 "nbformat_minor": 2
}
