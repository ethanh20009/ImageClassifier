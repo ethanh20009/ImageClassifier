{
 "cells": [
  {
   "cell_type": "code",
   "execution_count": 1,
   "metadata": {},
   "outputs": [
    {
     "name": "stdout",
     "output_type": "stream",
     "text": [
      "cuda\n",
      "9\n"
     ]
    }
   ],
   "source": [
    "import torch\n",
    "import numpy as np\n",
    "import torchvision\n",
    "import torchvision.transforms as transforms\n",
    "from torch.utils.data import DataLoader\n",
    "import matplotlib.pyplot as plt\n",
    "from PIL import Image\n",
    "\n",
    "device = torch.device('cuda' if torch.cuda.is_available() else 'cpu')\n",
    "\n",
    "print(device)\n",
    "\n",
    "trainDataset = torchvision.datasets.FashionMNIST(\"fashionDataset\", train=True, download=True, transform=transforms.ToTensor())\n",
    "\n",
    "\n",
    "x,y = trainDataset[0]\n",
    "print(y)"
   ]
  },
  {
   "cell_type": "code",
   "execution_count": 2,
   "metadata": {},
   "outputs": [
    {
     "data": {
      "text/plain": [
       "CNN(\n",
       "  (conv1): Conv2d(1, 3, kernel_size=(3, 3), stride=(1, 1), padding=(1, 1))\n",
       "  (conv2): Conv2d(3, 9, kernel_size=(5, 5), stride=(1, 1), padding=(2, 2))\n",
       "  (conv3): Conv2d(9, 20, kernel_size=(5, 5), stride=(1, 1), padding=(2, 2))\n",
       "  (conv4): Conv2d(20, 25, kernel_size=(5, 5), stride=(1, 1), padding=(2, 2))\n",
       "  (fc1): Linear(in_features=225, out_features=100, bias=True)\n",
       "  (fc2): Linear(in_features=100, out_features=10, bias=True)\n",
       "  (drop): Dropout(p=0.2, inplace=False)\n",
       "  (pool): MaxPool2d(kernel_size=2, stride=2, padding=0, dilation=1, ceil_mode=False)\n",
       "  (conv): Sequential(\n",
       "    (0): MaxPool2d(kernel_size=2, stride=2, padding=0, dilation=1, ceil_mode=False)\n",
       "    (1): ReLU()\n",
       "  )\n",
       ")"
      ]
     },
     "execution_count": 2,
     "metadata": {},
     "output_type": "execute_result"
    }
   ],
   "source": [
    "class CNN(torch.nn.Module):\n",
    "    def __init__(self):\n",
    "        super().__init__()\n",
    "        self.conv1 = torch.nn.Conv2d(1, 3, kernel_size=3, padding=1)\n",
    "        self.conv2 = torch.nn.Conv2d(3, 9, kernel_size=5, padding=2)\n",
    "        self.conv3 = torch.nn.Conv2d(9, 20, kernel_size=5, padding=2)\n",
    "        self.conv4 = torch.nn.Conv2d(20, 25, kernel_size=5, padding=2)\n",
    "        self.fc1 = torch.nn.Linear(225, 100)\n",
    "        self.fc2 = torch.nn.Linear(100, 10)\n",
    "        self.drop = torch.nn.Dropout(0.20)\n",
    "        self.pool = torch.nn.MaxPool2d(2, 2) #Halfs image\n",
    "\n",
    "        self.conv = torch.nn.Sequential(\n",
    "            self.pool,\n",
    "            torch.nn.ReLU()\n",
    "        )\n",
    "    \n",
    "    def forward(self, x):\n",
    "\n",
    "        x = self.conv(self.conv1(x))\n",
    "        x = self.conv(self.conv2(x))\n",
    "        x = self.conv(self.conv3(x))\n",
    "        x = torch.nn.functional.relu(self.conv4(x))\n",
    "        x = x.reshape((-1, 225))\n",
    "        x = torch.nn.functional.relu(self.fc1(x))\n",
    "        x = self.fc2(x)\n",
    "        return x\n",
    "\n",
    "    \n",
    "model = CNN()\n",
    "model.to(device)\n",
    "\n",
    "\n",
    "\n"
   ]
  },
  {
   "cell_type": "code",
   "execution_count": 3,
   "metadata": {},
   "outputs": [],
   "source": [
    "epochs = 20\n",
    "batchSize = 600\n",
    "dataloader = DataLoader(trainDataset, batch_size=batchSize, shuffle=True, num_workers=4)\n",
    "\n",
    "\n",
    "loss = torch.nn.CrossEntropyLoss()\n",
    "optimiser = torch.optim.Adam(model.parameters(), lr=1e-3, weight_decay=1e-6)\n",
    "\n",
    "\n"
   ]
  },
  {
   "cell_type": "code",
   "execution_count": 4,
   "metadata": {},
   "outputs": [
    {
     "name": "stdout",
     "output_type": "stream",
     "text": [
      "0\n",
      "1\n",
      "2\n",
      "3\n",
      "4\n",
      "5\n",
      "6\n",
      "7\n",
      "8\n",
      "9\n",
      "10\n",
      "11\n",
      "12\n",
      "13\n",
      "14\n",
      "15\n",
      "16\n",
      "17\n",
      "18\n",
      "19\n"
     ]
    },
    {
     "data": {
      "image/png": "[encoded data removed]",
      "text/plain": [
       "<Figure size 640x480 with 1 Axes>"
      ]
     },
     "metadata": {},
     "output_type": "display_data"
    }
   ],
   "source": [
    "\n",
    "history = []\n",
    "model.train()\n",
    "for i in range(epochs):\n",
    "    print(i)\n",
    "    totalCost = 0\n",
    "  \n",
    "    for xBatch, yBatch in dataloader:\n",
    "        optimiser.zero_grad()\n",
    "        xBatch = xBatch.to(device)\n",
    "        yBatch = yBatch.to(device)\n",
    "        \n",
    "        y_this = model(xBatch)\n",
    "\n",
    "        cost = loss(y_this, yBatch)\n",
    "        cost.backward()\n",
    "        totalCost += cost.item()\n",
    "\n",
    "        optimiser.step()\n",
    "    history.append(totalCost/len(trainDataset))\n",
    "plt.plot(history)\n",
    "plt.show()\n",
    "\n"
   ]
  },
  {
   "cell_type": "code",
   "execution_count": 5,
   "metadata": {},
   "outputs": [
    {
     "name": "stdout",
     "output_type": "stream",
     "text": [
      "torch.float32\n"
     ]
    },
    {
     "data": {
      "text/plain": [
       "<matplotlib.image.AxesImage at 0x284a0ab4640>"
      ]
     },
     "execution_count": 5,
     "metadata": {},
     "output_type": "execute_result"
    },
    {
     "data": {
      "image/png": "[encoded data removed]",
      "text/plain": [
       "<Figure size 600x300 with 1 Axes>"
      ]
     },
     "metadata": {},
     "output_type": "display_data"
    }
   ],
   "source": [
    "model.eval()\n",
    "labels = [\"T-shirt/top\", \"Trouser\", \"Pullover\", \"Dress\", \"Coat\", \"Sandal\", \"Shirt\", \"Sneaker\", \"Bag\", \"Ankle boot\"]\n",
    "testImage, expectedOutput = trainDataset[529]\n",
    "print(testImage.dtype)\n",
    "modelOutput = model(testImage.to(device))\n",
    "index = torch.argmax(modelOutput[0], dim=0).item()\n",
    "\n",
    "plt.figure(figsize=[6,3])\n",
    "plt.title( labels[index])\n",
    "plt.xlabel(\"True: \"+labels[expectedOutput])\n",
    "plt.imshow(testImage[0], cmap=\"gray\")\n",
    "\n"
   ]
  },
  {
   "cell_type": "code",
   "execution_count": 6,
   "metadata": {},
   "outputs": [
    {
     "name": "stdout",
     "output_type": "stream",
     "text": [
      "82.30166666666666\n"
     ]
    }
   ],
   "source": [
    "##Test Entire ds for accuracy\n",
    "model.eval()\n",
    "ySet = trainDataset.targets.to(device)\n",
    "xSet = trainDataset.data.reshape(-1, 1, 28, 28)\n",
    "xSet = xSet.to(device).to(torch.float)\n",
    "modelOutput = model(xSet)\n",
    "\n",
    "indexOut = torch.argmax(modelOutput, dim=1)\n",
    "matches = indexOut == ySet\n",
    "print(matches.sum().item()*100/len(ySet))\n"
   ]
  },
  {
   "cell_type": "code",
   "execution_count": null,
   "metadata": {},
   "outputs": [],
   "source": []
  }
 ],
 "metadata": {
  "kernelspec": {
   "display_name": "cudaPytorch",
   "language": "python",
   "name": "python3"
  },
  "language_info": {
   "codemirror_mode": {
    "name": "ipython",
    "version": 3
   },
   "file_extension": ".py",
   "mimetype": "text/x-python",
   "name": "python",
   "nbconvert_exporter": "python",
   "pygments_lexer": "ipython3",
   "version": "3.8.15"
  },
  "orig_nbformat": 4
 },
 "nbformat": 4,
 "nbformat_minor": 2
}
