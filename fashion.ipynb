{
 "cells": [
  {
   "cell_type": "code",
   "execution_count": 1,
   "metadata": {},
   "outputs": [
    {
     "name": "stdout",
     "output_type": "stream",
     "text": [
      "cuda\n",
      "9\n"
     ]
    }
   ],
   "source": [
    "import torch\n",
    "import numpy as np\n",
    "import torchvision\n",
    "import torchvision.transforms as transforms\n",
    "from torch.utils.data import DataLoader\n",
    "import matplotlib.pyplot as plt\n",
    "import matplotlib\n",
    "from PIL import Image\n",
    "\n",
    "device = torch.device('cuda' if torch.cuda.is_available() else 'cpu')\n",
    "\n",
    "print(device)\n",
    "\n",
    "trainDataset = torchvision.datasets.FashionMNIST(\"fashionDataset\", train=True, download=True, transform=transforms.ToTensor())\n",
    "testDataset = torchvision.datasets.FashionMNIST(\"fashionTrain\", train=False, download=True, transform=transforms.ToTensor())\n",
    "\n",
    "\n",
    "x,y = trainDataset[0]\n",
    "print(y)"
   ]
  },
  {
   "cell_type": "code",
   "execution_count": 2,
   "metadata": {},
   "outputs": [
    {
     "data": {
      "text/plain": [
       "CNN(\n",
       "  (conv1): Conv2d(1, 5, kernel_size=(3, 3), stride=(1, 1), padding=(1, 1))\n",
       "  (conv2): Conv2d(5, 15, kernel_size=(5, 5), stride=(1, 1), padding=(2, 2))\n",
       "  (conv3): Conv2d(15, 20, kernel_size=(5, 5), stride=(1, 1), padding=(2, 2))\n",
       "  (conv4): Conv2d(20, 20, kernel_size=(5, 5), stride=(1, 1), padding=(2, 2))\n",
       "  (fc1): Linear(in_features=180, out_features=10, bias=True)\n",
       "  (drop): Dropout(p=0.2, inplace=False)\n",
       "  (pool): MaxPool2d(kernel_size=2, stride=2, padding=0, dilation=1, ceil_mode=False)\n",
       "  (conv): Sequential(\n",
       "    (0): MaxPool2d(kernel_size=2, stride=2, padding=0, dilation=1, ceil_mode=False)\n",
       "    (1): ReLU()\n",
       "  )\n",
       ")"
      ]
     },
     "execution_count": 2,
     "metadata": {},
     "output_type": "execute_result"
    }
   ],
   "source": [
    "class CNN(torch.nn.Module):\n",
    "    def __init__(self):\n",
    "        super().__init__()\n",
    "        self.conv1 = torch.nn.Conv2d(1, 5, kernel_size=3, padding=1)\n",
    "        self.conv2 = torch.nn.Conv2d(5, 15, kernel_size=5, padding=2)\n",
    "        self.conv3 = torch.nn.Conv2d(15, 20, kernel_size=5, padding=2)\n",
    "        self.conv4 = torch.nn.Conv2d(20, 20, kernel_size=5, padding=2)\n",
    "        self.fc1 = torch.nn.Linear(180, 10)\n",
    "        self.drop = torch.nn.Dropout(0.20)\n",
    "        self.pool = torch.nn.MaxPool2d(2, 2) #Halfs image\n",
    "\n",
    "        self.conv = torch.nn.Sequential(\n",
    "            self.pool,\n",
    "            torch.nn.ReLU()\n",
    "        )\n",
    "    \n",
    "    def forward(self, x):\n",
    "        x = self.conv(self.conv1(x))\n",
    "        x = self.conv(self.conv2(x))\n",
    "        x = self.conv(self.conv3(x))\n",
    "        x = torch.nn.functional.relu(self.conv4(x))\n",
    "        x = x.reshape((-1, 180))\n",
    "        x = self.fc1(x)\n",
    "        return x\n",
    "\n",
    "    \n",
    "\n",
    "\n",
    "class RisNN(torch.nn.Module):\n",
    "\n",
    "    def __init__(self):\n",
    "        super().__init__()\n",
    "        self.resBlocks = torch.nn.Sequential(\n",
    "            resBlock(1,1),\n",
    "            resBlock(1,1),\n",
    "            resBlock(1,1),\n",
    "            resBlock(1,1)\n",
    "        )\n",
    "        self.fc1 = torch.nn.Sequential(\n",
    "            torch.nn.Linear(784, 100),\n",
    "            torch.nn.ReLU(),\n",
    "            torch.nn.Linear(100, 10)\n",
    "        )\n",
    "        self.relu = torch.nn.ReLU()\n",
    "    \n",
    "    def forward(self,x): \n",
    "        x = self.resBlocks(x)\n",
    "        x = x.reshape((-1, 784))\n",
    "        x = self.fc1(x)\n",
    "        return x\n",
    "\n",
    "class ResConv(torch.nn.Module):\n",
    "    def __init__(self):\n",
    "        super().__init__()\n",
    "        self.block1 = torch.nn.Sequential(\n",
    "            resBlock(1,1),\n",
    "            resBlock(1,1)\n",
    "\n",
    "        )\n",
    "        self.downSample1 = torch.nn.Sequential(\n",
    "            torch.nn.Conv2d(1, 5, kernel_size=5,stride=1,padding=2),\n",
    "            torch.nn.ReLU(),\n",
    "            torch.nn.MaxPool2d(2, 2)\n",
    "        )\n",
    "        self.block2 = torch.nn.Sequential(\n",
    "            resBlock(5,5),\n",
    "            resBlock(5,5),\n",
    "            resBlock(5,5)\n",
    "        )\n",
    "        self.downSample2 = torch.nn.Sequential(\n",
    "            torch.nn.Conv2d(5, 20, kernel_size=5,stride=1,padding=2),\n",
    "            torch.nn.ReLU(),\n",
    "            torch.nn.MaxPool2d(2, 2),\n",
    "            torch.nn.Conv2d(20, 30, kernel_size=5,stride=1,padding=2),\n",
    "            torch.nn.ReLU(),\n",
    "            torch.nn.Conv2d(30, 50, kernel_size=5,stride=1,padding=2),\n",
    "            torch.nn.ReLU(),\n",
    "            torch.nn.MaxPool2d(2, 2)\n",
    "        )\n",
    "        self.block3 = torch.nn.Sequential(\n",
    "            resBlock(50,50),\n",
    "            resBlock(50,50),\n",
    "            resBlock(50,50),\n",
    "            resBlock(50,50)\n",
    "        )\n",
    "        self.fc1 = torch.nn.Sequential(\n",
    "            torch.nn.Linear(450, 200),\n",
    "            torch.nn.ReLU(),\n",
    "            torch.nn.Linear(200, 100),\n",
    "            torch.nn.ReLU(),\n",
    "            torch.nn.Linear(100, 10)\n",
    "        )\n",
    "    def forward(self, x):\n",
    "        x = self.block1(x)\n",
    "        x = self.downSample1(x)\n",
    "        x = self.block2(x)\n",
    "        x = self.downSample2(x)\n",
    "        x = self.block3(x)\n",
    "        x = x.reshape(-1, 450)\n",
    "        x = self.fc1(x)\n",
    "        return x\n",
    "    \n",
    "class resBlock(torch.nn.Module):\n",
    "    def __init__(self, inChannels, outChannels):\n",
    "        super().__init__()\n",
    "        self.conv1 = torch.nn.Conv2d(inChannels, outChannels, kernel_size=3, padding=1)\n",
    "        self.conv2 = torch.nn.Conv2d(outChannels, outChannels, kernel_size=3, padding=1)\n",
    "        self.bn = torch.nn.BatchNorm2d(outChannels, track_running_stats=False)\n",
    "        self.relu = torch.nn.ReLU()\n",
    "    def forward(self, x):\n",
    "        x = self.bn(x)\n",
    "        y = self.conv1(x)\n",
    "        y = self.relu(y)\n",
    "        y = self.conv2(y)\n",
    "        y = self.bn(y)\n",
    "        y = self.relu(y)\n",
    "        x = x + y\n",
    "        return x\n",
    "    \n",
    "test = torch.randn(size=(100, 1, 28, 28),device=device)\n",
    "model = CNN()\n",
    "model.to(device)\n",
    "#print model params count\n",
    "#print(sum(p.numel() for p in model.parameters() if p.requires_grad))\n",
    "\n"
   ]
  },
  {
   "cell_type": "code",
   "execution_count": 3,
   "metadata": {},
   "outputs": [],
   "source": [
    "epochs = 50\n",
    "batchSize = 1000\n",
    "dataloader = DataLoader(trainDataset, batch_size=batchSize, shuffle=True, num_workers=4)\n",
    "trainDataLoader = DataLoader(trainDataset, batch_size=batchSize, shuffle=False, num_workers=4)\n",
    "testDataLoader = DataLoader(testDataset, batch_size=batchSize, shuffle=False, num_workers=4)\n",
    "\n",
    "loss = torch.nn.CrossEntropyLoss()\n",
    "optimiser = torch.optim.Adam(model.parameters(), lr=1e-3, weight_decay=1e-5)\n",
    "\n",
    "\n"
   ]
  },
  {
   "cell_type": "code",
   "execution_count": 4,
   "metadata": {},
   "outputs": [
    {
     "ename": "RuntimeError",
     "evalue": "mat1 and mat2 shapes cannot be multiplied (800x225 and 180x10)",
     "output_type": "error",
     "traceback": [
      "\u001b[1;31m---------------------------------------------------------------------------\u001b[0m",
      "\u001b[1;31mRuntimeError\u001b[0m                              Traceback (most recent call last)",
      "Cell \u001b[1;32mIn[4], line 15\u001b[0m\n\u001b[0;32m     12\u001b[0m xBatch \u001b[39m=\u001b[39m xBatch\u001b[39m.\u001b[39mto(device)\n\u001b[0;32m     13\u001b[0m yBatch \u001b[39m=\u001b[39m yBatch\u001b[39m.\u001b[39mto(device)\n\u001b[1;32m---> 15\u001b[0m y_this \u001b[39m=\u001b[39m model(xBatch)\n\u001b[0;32m     16\u001b[0m cost \u001b[39m=\u001b[39m loss(y_this, yBatch)\n\u001b[0;32m     17\u001b[0m cost\u001b[39m.\u001b[39mbackward()\n",
      "File \u001b[1;32mc:\\Users\\ethan\\.conda\\envs\\cudaPytorch\\lib\\site-packages\\torch\\nn\\modules\\module.py:1190\u001b[0m, in \u001b[0;36mModule._call_impl\u001b[1;34m(self, *input, **kwargs)\u001b[0m\n\u001b[0;32m   1186\u001b[0m \u001b[39m# If we don't have any hooks, we want to skip the rest of the logic in\u001b[39;00m\n\u001b[0;32m   1187\u001b[0m \u001b[39m# this function, and just call forward.\u001b[39;00m\n\u001b[0;32m   1188\u001b[0m \u001b[39mif\u001b[39;00m \u001b[39mnot\u001b[39;00m (\u001b[39mself\u001b[39m\u001b[39m.\u001b[39m_backward_hooks \u001b[39mor\u001b[39;00m \u001b[39mself\u001b[39m\u001b[39m.\u001b[39m_forward_hooks \u001b[39mor\u001b[39;00m \u001b[39mself\u001b[39m\u001b[39m.\u001b[39m_forward_pre_hooks \u001b[39mor\u001b[39;00m _global_backward_hooks\n\u001b[0;32m   1189\u001b[0m         \u001b[39mor\u001b[39;00m _global_forward_hooks \u001b[39mor\u001b[39;00m _global_forward_pre_hooks):\n\u001b[1;32m-> 1190\u001b[0m     \u001b[39mreturn\u001b[39;00m forward_call(\u001b[39m*\u001b[39;49m\u001b[39minput\u001b[39;49m, \u001b[39m*\u001b[39;49m\u001b[39m*\u001b[39;49mkwargs)\n\u001b[0;32m   1191\u001b[0m \u001b[39m# Do not call functions when jit is used\u001b[39;00m\n\u001b[0;32m   1192\u001b[0m full_backward_hooks, non_full_backward_hooks \u001b[39m=\u001b[39m [], []\n",
      "Cell \u001b[1;32mIn[2], line 23\u001b[0m, in \u001b[0;36mCNN.forward\u001b[1;34m(self, x)\u001b[0m\n\u001b[0;32m     21\u001b[0m x \u001b[39m=\u001b[39m torch\u001b[39m.\u001b[39mnn\u001b[39m.\u001b[39mfunctional\u001b[39m.\u001b[39mrelu(\u001b[39mself\u001b[39m\u001b[39m.\u001b[39mconv4(x))\n\u001b[0;32m     22\u001b[0m x \u001b[39m=\u001b[39m x\u001b[39m.\u001b[39mreshape((\u001b[39m-\u001b[39m\u001b[39m1\u001b[39m, \u001b[39m225\u001b[39m))\n\u001b[1;32m---> 23\u001b[0m x \u001b[39m=\u001b[39m \u001b[39mself\u001b[39;49m\u001b[39m.\u001b[39;49mfc1(x)\n\u001b[0;32m     24\u001b[0m \u001b[39mreturn\u001b[39;00m x\n",
      "File \u001b[1;32mc:\\Users\\ethan\\.conda\\envs\\cudaPytorch\\lib\\site-packages\\torch\\nn\\modules\\module.py:1190\u001b[0m, in \u001b[0;36mModule._call_impl\u001b[1;34m(self, *input, **kwargs)\u001b[0m\n\u001b[0;32m   1186\u001b[0m \u001b[39m# If we don't have any hooks, we want to skip the rest of the logic in\u001b[39;00m\n\u001b[0;32m   1187\u001b[0m \u001b[39m# this function, and just call forward.\u001b[39;00m\n\u001b[0;32m   1188\u001b[0m \u001b[39mif\u001b[39;00m \u001b[39mnot\u001b[39;00m (\u001b[39mself\u001b[39m\u001b[39m.\u001b[39m_backward_hooks \u001b[39mor\u001b[39;00m \u001b[39mself\u001b[39m\u001b[39m.\u001b[39m_forward_hooks \u001b[39mor\u001b[39;00m \u001b[39mself\u001b[39m\u001b[39m.\u001b[39m_forward_pre_hooks \u001b[39mor\u001b[39;00m _global_backward_hooks\n\u001b[0;32m   1189\u001b[0m         \u001b[39mor\u001b[39;00m _global_forward_hooks \u001b[39mor\u001b[39;00m _global_forward_pre_hooks):\n\u001b[1;32m-> 1190\u001b[0m     \u001b[39mreturn\u001b[39;00m forward_call(\u001b[39m*\u001b[39;49m\u001b[39minput\u001b[39;49m, \u001b[39m*\u001b[39;49m\u001b[39m*\u001b[39;49mkwargs)\n\u001b[0;32m   1191\u001b[0m \u001b[39m# Do not call functions when jit is used\u001b[39;00m\n\u001b[0;32m   1192\u001b[0m full_backward_hooks, non_full_backward_hooks \u001b[39m=\u001b[39m [], []\n",
      "File \u001b[1;32mc:\\Users\\ethan\\.conda\\envs\\cudaPytorch\\lib\\site-packages\\torch\\nn\\modules\\linear.py:114\u001b[0m, in \u001b[0;36mLinear.forward\u001b[1;34m(self, input)\u001b[0m\n\u001b[0;32m    113\u001b[0m \u001b[39mdef\u001b[39;00m \u001b[39mforward\u001b[39m(\u001b[39mself\u001b[39m, \u001b[39minput\u001b[39m: Tensor) \u001b[39m-\u001b[39m\u001b[39m>\u001b[39m Tensor:\n\u001b[1;32m--> 114\u001b[0m     \u001b[39mreturn\u001b[39;00m F\u001b[39m.\u001b[39;49mlinear(\u001b[39minput\u001b[39;49m, \u001b[39mself\u001b[39;49m\u001b[39m.\u001b[39;49mweight, \u001b[39mself\u001b[39;49m\u001b[39m.\u001b[39;49mbias)\n",
      "\u001b[1;31mRuntimeError\u001b[0m: mat1 and mat2 shapes cannot be multiplied (800x225 and 180x10)"
     ]
    }
   ],
   "source": [
    "from IPython.display import clear_output\n",
    "\n",
    "history = []\n",
    "accuracy = []\n",
    "validationAcc = []\n",
    "for i in range(epochs):\n",
    "    model.train()\n",
    "    totalCost = 0\n",
    "  \n",
    "    for xBatch, yBatch in dataloader:\n",
    "        optimiser.zero_grad()\n",
    "        xBatch = xBatch.to(device)\n",
    "        yBatch = yBatch.to(device)\n",
    "        \n",
    "        y_this = model(xBatch)\n",
    "        cost = loss(y_this, yBatch)\n",
    "        cost.backward()\n",
    "        totalCost += cost.item()\n",
    "\n",
    "        optimiser.step()\n",
    "    history.append(totalCost/len(trainDataset))\n",
    "\n",
    "    if i % 5 == 0:\n",
    "        ##Plot acc\n",
    "        model.eval()\n",
    "        numRight = 0\n",
    "        for xBatch, yBatch in trainDataLoader:\n",
    "            xBatch = xBatch.to(device)\n",
    "            yBatch = yBatch.to(device)\n",
    "            y_this = model(xBatch)\n",
    "            indexOut = torch.argmax(y_this, dim=1)\n",
    "            matches = indexOut == yBatch\n",
    "            numRight += matches.sum().item()/len(yBatch)\n",
    "        accuracy.append((numRight*100)/len(trainDataLoader))\n",
    "\n",
    "        plt.figure(figsize=(6,3))\n",
    "        plt.plot(accuracy)\n",
    "        plt.show()\n",
    "        print(i)\n",
    "        clear_output(wait=True)\n",
    "\n",
    "        ##\n",
    "        ##Test validation set\n",
    "        model.eval()\n",
    "        numRight = 0\n",
    "        for xBatch, yBatch in testDataLoader:\n",
    "            xBatch = xBatch.to(device)\n",
    "            yBatch = yBatch.to(device)\n",
    "            y_this = model(xBatch)\n",
    "            indexOut = torch.argmax(y_this, dim=1)\n",
    "            matches = indexOut == yBatch\n",
    "            numRight += matches.sum().item()/len(yBatch)\n",
    "        validationAcc.append((numRight*100)/len(testDataLoader))\n",
    "\n",
    "\n",
    "plt.plot(history)\n",
    "plt.show()\n",
    "plt.plot(accuracy)\n",
    "plt.show()\n",
    "plt.plot(validationAcc)\n",
    "plt.show()\n",
    "\n",
    "\n"
   ]
  },
  {
   "cell_type": "code",
   "execution_count": 21,
   "metadata": {},
   "outputs": [],
   "source": [
    "torch.save(model.state_dict(), \"oldParams.pt\")"
   ]
  },
  {
   "cell_type": "code",
   "execution_count": 34,
   "metadata": {},
   "outputs": [
    {
     "data": {
      "text/plain": [
       "<matplotlib.image.AxesImage at 0x24f12bda6d0>"
      ]
     },
     "execution_count": 34,
     "metadata": {},
     "output_type": "execute_result"
    },
    {
     "data": {
      "image/png": "[encoded data removed]",
      "text/plain": [
       "<Figure size 600x300 with 1 Axes>"
      ]
     },
     "metadata": {},
     "output_type": "display_data"
    }
   ],
   "source": [
    "model.eval()\n",
    "labels = [\"T-shirt/top\", \"Trouser\", \"Pullover\", \"Dress\", \"Coat\", \"Sandal\", \"Shirt\", \"Sneaker\", \"Bag\", \"Ankle boot\"]\n",
    "testImage, expectedOutput = trainDataset[221]\n",
    "testImage = testImage.reshape(1,28,28)\n",
    "modelOutput = model(testImage.to(device).reshape(-1, 1, 28, 28))\n",
    "index = torch.argmax(modelOutput[0], dim=0).item()\n",
    "\n",
    "plt.figure(figsize=[6,3])\n",
    "plt.title( labels[index])\n",
    "plt.xlabel(\"True: \"+labels[expectedOutput])\n",
    "plt.imshow(testImage[0], cmap=\"gray\")"
   ]
  },
  {
   "cell_type": "code",
   "execution_count": 13,
   "metadata": {},
   "outputs": [
    {
     "name": "stdout",
     "output_type": "stream",
     "text": [
      "99.51833333333329\n"
     ]
    }
   ],
   "source": [
    "##Test Entire ds for accuracy\n",
    "model.eval()\n",
    "numRight = 0\n",
    "for xBatch, yBatch in trainDataLoader:\n",
    "    xBatch = xBatch.to(device)\n",
    "    yBatch = yBatch.to(device)\n",
    "    y_this = model(xBatch)\n",
    "    indexOut = torch.argmax(y_this, dim=1)\n",
    "    matches = indexOut == yBatch\n",
    "    numRight += matches.sum().item()/len(yBatch)\n",
    "print((numRight*100)/len(trainDataLoader))\n",
    "\n"
   ]
  },
  {
   "cell_type": "code",
   "execution_count": 14,
   "metadata": {},
   "outputs": [
    {
     "name": "stdout",
     "output_type": "stream",
     "text": [
      "89.63000000000001\n"
     ]
    }
   ],
   "source": [
    "##Test validation set\n",
    "model.eval()\n",
    "numRight = 0\n",
    "for xBatch, yBatch in testDataLoader:\n",
    "    xBatch = xBatch.to(device)\n",
    "    yBatch = yBatch.to(device)\n",
    "    y_this = model(xBatch)\n",
    "    indexOut = torch.argmax(y_this, dim=1)\n",
    "    matches = indexOut == yBatch\n",
    "    numRight += matches.sum().item()/len(yBatch)\n",
    "print((numRight*100)/len(testDataLoader))"
   ]
  },
  {
   "cell_type": "code",
   "execution_count": 23,
   "metadata": {},
   "outputs": [
    {
     "data": {
      "image/png": "[encoded data removed]",
      "text/plain": [
       "<Figure size 640x480 with 1 Axes>"
      ]
     },
     "metadata": {},
     "output_type": "display_data"
    },
    {
     "data": {
      "image/png": "[encoded data removed]",
      "text/plain": [
       "<Figure size 640x480 with 1 Axes>"
      ]
     },
     "metadata": {},
     "output_type": "display_data"
    }
   ],
   "source": [
    "plt.plot(accuracy)\n",
    "plt.show()\n",
    "plt.plot(validationAcc)\n",
    "plt.show()"
   ]
  },
  {
   "cell_type": "code",
   "execution_count": 11,
   "metadata": {},
   "outputs": [
    {
     "name": "stdout",
     "output_type": "stream",
     "text": [
      "348794\n"
     ]
    }
   ],
   "source": [
    "model.load_state_dict(torch.load(\"resConvParams2.pt\", map_location=device))\n",
    "\n",
    "#get number of parameters in model\n",
    "total_params = sum(p.numel() for p in model.parameters())\n",
    "print(total_params)"
   ]
  },
  {
   "cell_type": "code",
   "execution_count": 4,
   "metadata": {},
   "outputs": [
    {
     "data": {
      "image/png": "[encoded data removed]",
      "text/plain": [
       "<Figure size 640x480 with 1 Axes>"
      ]
     },
     "metadata": {},
     "output_type": "display_data"
    },
    {
     "data": {
      "image/png": "[encoded data removed]",
      "text/plain": [
       "<Figure size 640x480 with 1 Axes>"
      ]
     },
     "metadata": {},
     "output_type": "display_data"
    }
   ],
   "source": [
    "imgX, labelY = trainDataset[0]\n",
    "imgX = imgX.reshape(28,28)\n",
    "\n",
    "imgTest, testY = testDataset[0]\n",
    "imgTest = imgTest.reshape(28,28)\n",
    "\n",
    "plt.imshow(imgX, cmap=\"gray\")\n",
    "plt.title(\"Training datapoint\")\n",
    "plt.show()\n",
    "plt.imshow(imgTest, cmap=\"gray\")\n",
    "plt.title(\"Test datapoint\")\n",
    "plt.show()"
   ]
  },
  {
   "cell_type": "code",
   "execution_count": 24,
   "metadata": {},
   "outputs": [
    {
     "name": "stdout",
     "output_type": "stream",
     "text": [
      "348794\n"
     ]
    }
   ],
   "source": [
    "total_params = sum(p.numel() for p in model.parameters())\n",
    "print(total_params)"
   ]
  },
  {
   "cell_type": "code",
   "execution_count": null,
   "metadata": {},
   "outputs": [],
   "source": []
  }
 ],
 "metadata": {
  "kernelspec": {
   "display_name": "cudaPytorch",
   "language": "python",
   "name": "python3"
  },
  "language_info": {
   "codemirror_mode": {
    "name": "ipython",
    "version": 3
   },
   "file_extension": ".py",
   "mimetype": "text/x-python",
   "name": "python",
   "nbconvert_exporter": "python",
   "pygments_lexer": "ipython3",
   "version": "3.8.15"
  },
  "orig_nbformat": 4
 },
 "nbformat": 4,
 "nbformat_minor": 2
}
